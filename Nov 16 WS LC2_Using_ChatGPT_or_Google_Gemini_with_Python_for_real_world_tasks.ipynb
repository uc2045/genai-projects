{
  "nbformat": 4,
  "nbformat_minor": 0,
  "metadata": {
    "colab": {
      "provenance": [],
      "include_colab_link": true
    },
    "kernelspec": {
      "name": "python3",
      "display_name": "Python 3"
    },
    "language_info": {
      "name": "python"
    }
  },
  "cells": [
    {
      "cell_type": "markdown",
      "metadata": {
        "id": "view-in-github",
        "colab_type": "text"
      },
      "source": [
        "<a href=\"https://colab.research.google.com/github/uc2045/genai-projects/blob/master/Nov%2016%20WS%20LC2_Using_ChatGPT_or_Google_Gemini_with_Python_for_real_world_tasks.ipynb\" target=\"_parent\"><img src=\"https://colab.research.google.com/assets/colab-badge.svg\" alt=\"Open In Colab\"/></a>"
      ]
    },
    {
      "cell_type": "markdown",
      "source": [
        "# Using ChatGPT or Google Gemini with Python for real-world tasks using Prompt Engineering"
      ],
      "metadata": {
        "id": "fb6rdwlCsCGt"
      }
    },
    {
      "cell_type": "markdown",
      "source": [
        "In this notebook you will use the OpenAI's ChatGPT or Google Gemini to solve:\n",
        "\n",
        "- Exercise - 1: Review Analysis and Response\n",
        "- Exercise - 2: Paper Analysis and Summarization\n",
        "- Exercise - 3: Marketing Adverts for Smartphone\n",
        "- Exercise - 4: IT Support Resolution\n",
        "- Exercise - 5: Synthetic Data Generation\n",
        "\n",
        "\n",
        "___Created By: Dipanjan (DJ)___"
      ],
      "metadata": {
        "id": "XTzBUFWQ-OWj"
      }
    },
    {
      "cell_type": "markdown",
      "source": [
        "## Install OpenAI dependencies"
      ],
      "metadata": {
        "id": "L1KvMtf54l0d"
      }
    },
    {
      "cell_type": "code",
      "source": [
        "!pip install openai"
      ],
      "metadata": {
        "id": "2evPp14fy258",
        "colab": {
          "base_uri": "https://localhost:8080/"
        },
        "outputId": "e1a949c1-2b19-4b69-89d0-5c8e423269cc"
      },
      "execution_count": null,
      "outputs": [
        {
          "output_type": "stream",
          "name": "stdout",
          "text": [
            "Collecting openai\n",
            "  Downloading openai-1.35.13-py3-none-any.whl (328 kB)\n",
            "\u001b[2K     \u001b[90m━━━━━━━━━━━━━━━━━━━━━━━━━━━━━━━━━━━━━━━━\u001b[0m \u001b[32m328.5/328.5 kB\u001b[0m \u001b[31m2.4 MB/s\u001b[0m eta \u001b[36m0:00:00\u001b[0m\n",
            "\u001b[?25hRequirement already satisfied: anyio<5,>=3.5.0 in /usr/local/lib/python3.10/dist-packages (from openai) (3.7.1)\n",
            "Requirement already satisfied: distro<2,>=1.7.0 in /usr/lib/python3/dist-packages (from openai) (1.7.0)\n",
            "Collecting httpx<1,>=0.23.0 (from openai)\n",
            "  Downloading httpx-0.27.0-py3-none-any.whl (75 kB)\n",
            "\u001b[2K     \u001b[90m━━━━━━━━━━━━━━━━━━━━━━━━━━━━━━━━━━━━━━━━\u001b[0m \u001b[32m75.6/75.6 kB\u001b[0m \u001b[31m2.8 MB/s\u001b[0m eta \u001b[36m0:00:00\u001b[0m\n",
            "\u001b[?25hRequirement already satisfied: pydantic<3,>=1.9.0 in /usr/local/lib/python3.10/dist-packages (from openai) (2.8.2)\n",
            "Requirement already satisfied: sniffio in /usr/local/lib/python3.10/dist-packages (from openai) (1.3.1)\n",
            "Requirement already satisfied: tqdm>4 in /usr/local/lib/python3.10/dist-packages (from openai) (4.66.4)\n",
            "Requirement already satisfied: typing-extensions<5,>=4.7 in /usr/local/lib/python3.10/dist-packages (from openai) (4.12.2)\n",
            "Requirement already satisfied: idna>=2.8 in /usr/local/lib/python3.10/dist-packages (from anyio<5,>=3.5.0->openai) (3.7)\n",
            "Requirement already satisfied: exceptiongroup in /usr/local/lib/python3.10/dist-packages (from anyio<5,>=3.5.0->openai) (1.2.1)\n",
            "Requirement already satisfied: certifi in /usr/local/lib/python3.10/dist-packages (from httpx<1,>=0.23.0->openai) (2024.7.4)\n",
            "Collecting httpcore==1.* (from httpx<1,>=0.23.0->openai)\n",
            "  Downloading httpcore-1.0.5-py3-none-any.whl (77 kB)\n",
            "\u001b[2K     \u001b[90m━━━━━━━━━━━━━━━━━━━━━━━━━━━━━━━━━━━━━━━━\u001b[0m \u001b[32m77.9/77.9 kB\u001b[0m \u001b[31m2.8 MB/s\u001b[0m eta \u001b[36m0:00:00\u001b[0m\n",
            "\u001b[?25hCollecting h11<0.15,>=0.13 (from httpcore==1.*->httpx<1,>=0.23.0->openai)\n",
            "  Downloading h11-0.14.0-py3-none-any.whl (58 kB)\n",
            "\u001b[2K     \u001b[90m━━━━━━━━━━━━━━━━━━━━━━━━━━━━━━━━━━━━━━━━\u001b[0m \u001b[32m58.3/58.3 kB\u001b[0m \u001b[31m3.3 MB/s\u001b[0m eta \u001b[36m0:00:00\u001b[0m\n",
            "\u001b[?25hRequirement already satisfied: annotated-types>=0.4.0 in /usr/local/lib/python3.10/dist-packages (from pydantic<3,>=1.9.0->openai) (0.7.0)\n",
            "Requirement already satisfied: pydantic-core==2.20.1 in /usr/local/lib/python3.10/dist-packages (from pydantic<3,>=1.9.0->openai) (2.20.1)\n",
            "Installing collected packages: h11, httpcore, httpx, openai\n",
            "Successfully installed h11-0.14.0 httpcore-1.0.5 httpx-0.27.0 openai-1.35.13\n"
          ]
        }
      ]
    },
    {
      "cell_type": "markdown",
      "source": [
        "## Optional: Install Google Gemini\n",
        "\n",
        "Google Gemini API is free (till now). You can get a key [here](https://aistudio.google.com/app/apikey), just need to sign in with your google account. Gemini may not be available fully in EU."
      ],
      "metadata": {
        "id": "5N_Lly09l0P9"
      }
    },
    {
      "cell_type": "code",
      "source": [
        "pip install -q -U google-generativeai"
      ],
      "metadata": {
        "colab": {
          "base_uri": "https://localhost:8080/"
        },
        "id": "UKbTnx8pl8kt",
        "outputId": "163bbf98-3643-4ab8-e760-a92eaae39137"
      },
      "execution_count": null,
      "outputs": [
        {
          "output_type": "stream",
          "name": "stdout",
          "text": [
            "\u001b[2K     \u001b[90m━━━━━━━━━━━━━━━━━━━━━━━━━━━━━━━━━━━━━━━━\u001b[0m \u001b[32m164.2/164.2 kB\u001b[0m \u001b[31m2.0 MB/s\u001b[0m eta \u001b[36m0:00:00\u001b[0m\n",
            "\u001b[2K     \u001b[90m━━━━━━━━━━━━━━━━━━━━━━━━━━━━━━━━━━━━━━━━\u001b[0m \u001b[32m718.3/718.3 kB\u001b[0m \u001b[31m17.8 MB/s\u001b[0m eta \u001b[36m0:00:00\u001b[0m\n",
            "\u001b[?25h"
          ]
        }
      ]
    },
    {
      "cell_type": "markdown",
      "source": [
        "## Load OpenAI API Credentials\n"
      ],
      "metadata": {
        "id": "CiwGjVWK4q6F"
      }
    },
    {
      "cell_type": "code",
      "execution_count": null,
      "metadata": {
        "id": "ryheOZuXxa41",
        "colab": {
          "base_uri": "https://localhost:8080/"
        },
        "outputId": "e8a65588-99aa-4b7f-b797-3f0222d823ba"
      },
      "outputs": [
        {
          "name": "stdout",
          "output_type": "stream",
          "text": [
            "Enter your OpenAI API Key: ··········\n"
          ]
        }
      ],
      "source": [
        "from getpass import getpass\n",
        "\n",
        "openai_key = getpass(\"Enter your OpenAI API Key: \")"
      ]
    },
    {
      "cell_type": "code",
      "source": [
        "import openai\n",
        "from IPython.display import HTML\n",
        "\n",
        "openai.api_key = openai_key"
      ],
      "metadata": {
        "id": "kDe44J0N0NcC"
      },
      "execution_count": null,
      "outputs": []
    },
    {
      "cell_type": "markdown",
      "source": [
        "## Load Gemini API credentials\n",
        "\n",
        "Run this section only if you are using Google Gemini"
      ],
      "metadata": {
        "id": "LS7koM2emZ_M"
      }
    },
    {
      "cell_type": "code",
      "source": [
        "from getpass import getpass\n",
        "\n",
        "gemini_key = getpass(\"Enter your Gemini API Key: \")"
      ],
      "metadata": {
        "id": "YgpTrZ6rVd4I",
        "colab": {
          "base_uri": "https://localhost:8080/"
        },
        "outputId": "5917fe8d-9f00-45b8-db59-093ac6d496c7"
      },
      "execution_count": null,
      "outputs": [
        {
          "name": "stdout",
          "output_type": "stream",
          "text": [
            "Enter your Gemini API Key: ··········\n"
          ]
        }
      ]
    },
    {
      "cell_type": "code",
      "source": [
        "import google.generativeai as genai\n",
        "\n",
        "GOOGLE_API_KEY = gemini_key\n",
        "genai.configure(api_key=GOOGLE_API_KEY)"
      ],
      "metadata": {
        "id": "nxJAcO1MmhRo"
      },
      "execution_count": null,
      "outputs": []
    },
    {
      "cell_type": "markdown",
      "source": [
        "## Create ChatGPT and Google Gemini Chat Completion Access Function\n",
        "\n",
        "This function will use the [Chat Completion API](https://platform.openai.com/docs/api-reference/chat/create) to access ChatGPT for us and return responses\n",
        "\n",
        "We also add the capability to access the [Google Gemini API](https://ai.google.dev/tutorials/python_quickstart) if you want to use Gemini Pro instead of ChatGPT"
      ],
      "metadata": {
        "id": "VDWhgxCy5bA6"
      }
    },
    {
      "cell_type": "code",
      "source": [
        "def get_completion(prompt, model=\"gpt-4o-mini\"):\n",
        "  if model == \"gpt-4o-mini\":\n",
        "    messages = [{\"role\": \"user\", \"content\": prompt}]\n",
        "    response = openai.chat.completions.create(\n",
        "        model=model,\n",
        "        messages=messages,\n",
        "        temperature=0, # degree of randomness of the model's output\n",
        "    )\n",
        "    return response.choices[0].message.content\n",
        "  if model == 'gemini-1.5-flash':\n",
        "    model = genai.GenerativeModel('gemini-1.5-flash')\n",
        "    response = model.generate_content(prompt)\n",
        "    return response.text\n",
        "  else:\n",
        "    return \"LLM not configured! Please configure logic for specific model in get_completion()\""
      ],
      "metadata": {
        "id": "kA9gVCwK0WKd"
      },
      "execution_count": null,
      "outputs": []
    },
    {
      "cell_type": "markdown",
      "source": [
        "## Let's try out the ChatGPT API!"
      ],
      "metadata": {
        "id": "1TFZjzuGjCOw"
      }
    },
    {
      "cell_type": "code",
      "source": [
        "from IPython.display import display, Markdown"
      ],
      "metadata": {
        "id": "0Nbv6wrc5wN3"
      },
      "execution_count": null,
      "outputs": []
    },
    {
      "cell_type": "code",
      "source": [
        "response = get_completion(prompt='Explain Generative AI in 2 bullet points')\n",
        "display(Markdown(response))"
      ],
      "metadata": {
        "colab": {
          "base_uri": "https://localhost:8080/",
          "height": 98
        },
        "id": "KK-kjmMoi5rO",
        "outputId": "f83ba0b4-8358-4df9-b68a-edc8952b7641"
      },
      "execution_count": null,
      "outputs": [
        {
          "output_type": "display_data",
          "data": {
            "text/plain": [
              "<IPython.core.display.Markdown object>"
            ],
            "text/markdown": "- Generative AI is a type of artificial intelligence that is capable of creating new content, such as images, text, or music, based on patterns and data it has been trained on.\n- This technology can be used in a variety of applications, including creating realistic images for video games, generating personalized content for marketing campaigns, or even composing music."
          },
          "metadata": {}
        }
      ]
    },
    {
      "cell_type": "code",
      "source": [
        "# with Gemini\n",
        "response = get_completion(prompt='Explain Generative AI in 2 bullet points',\n",
        "                          model='gemini-1.5-flash')\n",
        "display(Markdown(response))"
      ],
      "metadata": {
        "colab": {
          "base_uri": "https://localhost:8080/",
          "height": 81
        },
        "id": "VmnwGrskn_oz",
        "outputId": "8a97a7b2-7814-477c-d207-1d5aaa0bbc07"
      },
      "execution_count": null,
      "outputs": [
        {
          "output_type": "display_data",
          "data": {
            "text/plain": [
              "<IPython.core.display.Markdown object>"
            ],
            "text/markdown": "* **Generative AI creates new content based on existing data.** This could be text, images, music, code, or even videos.\n* **It uses machine learning models trained on massive datasets to learn patterns and generate similar but unique outputs.** These models are often referred to as \"generative models.\" \n"
          },
          "metadata": {}
        }
      ]
    },
    {
      "cell_type": "markdown",
      "source": [
        "## Exercise - 1: Review Analysis and Response\n",
        "\n",
        "For each review get ChatGPT to do the following:\n",
        "\n",
        "            - Summarize the following reviews below, delimited by triple\n",
        "            backticks. For each review, the summary should be at most 3 lines.\n",
        "            - Highlight both the positives and negatives for each review\n",
        "            - Display the overall sentiment for each review (positive, negative, neutral)\n",
        "            - Display a list of 3 - 5 emotions expressed by the customer\n",
        "            - If the sentiment is positive or neutral write an email and thank them for the review\n",
        "            - If the sentiment is negative apologize and write an email with an appropriate response"
      ],
      "metadata": {
        "id": "AeDkpvGDhMGV"
      }
    },
    {
      "cell_type": "code",
      "source": [
        "reviews = [\n",
        "    f\"\"\"\n",
        "    Just received the Bluetooth speaker I ordered for beach outings, and it's fantastic.\n",
        "    The sound quality is impressively clear with just the right amount of bass.\n",
        "    It's also waterproof, which tested true during a recent splashing incident.\n",
        "    Though it's compact, the volume can really fill the space.\n",
        "    The price was a bargain for such high-quality sound.\n",
        "    Shipping was also on point, arriving two days early in secure packaging.\n",
        "    \"\"\",\n",
        "    f\"\"\"\n",
        "    Purchased a new gaming keyboard because of its rave reviews about responsiveness and backlighting.\n",
        "    It hasn't disappointed. The keys have a satisfying click and the LED colors are vibrant,\n",
        "    enhancing my gaming experience significantly. Price-wise, it's quite competitive,\n",
        "    and I feel like I got a good deal. The delivery was swift, and it came well-protected,\n",
        "    ensuring no damage during transport.\n",
        "    \"\"\",\n",
        "    f\"\"\"\n",
        "    Ordered a set of wireless earbuds for running, and they've been a letdown.\n",
        "    The sound constantly cuts out, and the fit is uncomfortable after only a few minutes of use.\n",
        "    They advertised a 12-hour battery life, but I'm barely getting four hours.\n",
        "    Considering the cost, I expected better quality and performance.\n",
        "    They did arrive on time, but the positives end there. I'm already looking into a return.\n",
        "    \"\"\",\n",
        "    f\"\"\"\n",
        "    The tablet stand I bought was touted as being sturdy and adjustable,\n",
        "    but it's anything but. It wobbles with the slightest touch,\n",
        "    and the angles are not holding up as promised. It feels like a breeze could knock it over.\n",
        "    It was also pricier than others I've seen, which adds to the disappointment.\n",
        "    It did arrive promptly, but what's the use if the product doesn't meet basic expectations?\n",
        "    \"\"\",\n",
        "    f\"\"\"\n",
        "    Needed a new kitchen blender, but this model has been a nightmare.\n",
        "    It's supposed to handle various foods, but it struggles with anything tougher than cooked vegetables.\n",
        "    It's also incredibly noisy, and the 'easy-clean' feature is a joke; food gets stuck under the blades constantly.\n",
        "    I thought the brand meant quality, but this product has proven me wrong.\n",
        "    Plus, it arrived three days late. Definitely not worth the expense.\n",
        "    \"\"\"\n",
        "]"
      ],
      "metadata": {
        "id": "hRbBZB57hT0G"
      },
      "execution_count": null,
      "outputs": []
    },
    {
      "cell_type": "code",
      "source": [
        "responses = []\n",
        "\n",
        "for review in reviews:\n",
        "  prompt = f\"\"\"\n",
        "              Act as a product review analyst.\n",
        "              Your task is to perform the following tasks:\n",
        "\n",
        "              - Summarize the following review below, delimited by triple\n",
        "              backticks in at most 3 lines.\n",
        "              - Highlight both the positives and negatives for the review separately if any\n",
        "              - Display the overall sentiment for the review (positive, negative OR neutral)\n",
        "              - Display a list of 3 - 5 emotions expressed by the customer\n",
        "              - If the sentiment is positive or neutral write an email and thank them for the review\n",
        "              - If the sentiment is negative apologize and write an email with an appropriate response\n",
        "\n",
        "              ```{review}```\n",
        "              \"\"\"\n",
        "  response = get_completion(prompt)\n",
        "  responses.append(response)"
      ],
      "metadata": {
        "id": "jZwPaViatl7f"
      },
      "execution_count": null,
      "outputs": []
    },
    {
      "cell_type": "code",
      "source": [
        "for response in responses:\n",
        "  display(Markdown(response))\n",
        "  print('------')\n",
        "  print('\\n')"
      ],
      "metadata": {
        "id": "EdUFkKAmtmBj",
        "colab": {
          "base_uri": "https://localhost:8080/",
          "height": 1000
        },
        "outputId": "25b59d7f-e3fc-4e3d-8041-eaab56e0d010"
      },
      "execution_count": null,
      "outputs": [
        {
          "output_type": "display_data",
          "data": {
            "text/plain": [
              "<IPython.core.display.Markdown object>"
            ],
            "text/markdown": "- Positives: Fantastic sound quality, waterproof, compact yet powerful volume, bargain price, early shipping\n- Negatives: None mentioned\n- Overall sentiment: Positive\n- Emotions: Satisfaction, excitement, happiness\n\nDear [Customer],\n\nThank you so much for your positive review of the Bluetooth speaker you purchased for beach outings! We are thrilled to hear that you are enjoying the fantastic sound quality, waterproof feature, and compact yet powerful volume. We are also glad that the shipping was on point and arrived early. Your satisfaction is our top priority, and we look forward to serving you again in the future.\n\nBest regards,\n[Your Name]"
          },
          "metadata": {}
        },
        {
          "output_type": "stream",
          "name": "stdout",
          "text": [
            "------\n",
            "\n",
            "\n"
          ]
        },
        {
          "output_type": "display_data",
          "data": {
            "text/plain": [
              "<IPython.core.display.Markdown object>"
            ],
            "text/markdown": "- Positive: Responsive keys, vibrant LED colors, competitive price, swift delivery, well-protected packaging.\n- Negative: None mentioned.\n- Overall sentiment: Positive\n- Emotions: Satisfaction, excitement, gratitude\n\nDear [Customer],\n\nThank you for your positive review of our gaming keyboard! We are thrilled to hear that it has enhanced your gaming experience significantly. We appreciate your feedback and are glad that you found the product to be responsive, competitively priced, and well-protected during delivery. If you have any further feedback or questions, please feel free to reach out to us.\n\nBest regards,\n[Your Name]"
          },
          "metadata": {}
        },
        {
          "output_type": "stream",
          "name": "stdout",
          "text": [
            "------\n",
            "\n",
            "\n"
          ]
        },
        {
          "output_type": "display_data",
          "data": {
            "text/plain": [
              "<IPython.core.display.Markdown object>"
            ],
            "text/markdown": "- Review: The wireless earbuds were a letdown with sound cutting out, uncomfortable fit, and short battery life.\n- Positives: Arrived on time.\n- Negatives: Sound issues, uncomfortable fit, short battery life, expected better quality.\n- Overall sentiment: Negative\n- Emotions: Disappointment, frustration, dissatisfaction\n\nI'm sorry to hear about your experience with the wireless earbuds. Please accept our apologies for the inconvenience caused. We would like to offer you a full refund and assist you with the return process."
          },
          "metadata": {}
        },
        {
          "output_type": "stream",
          "name": "stdout",
          "text": [
            "------\n",
            "\n",
            "\n"
          ]
        },
        {
          "output_type": "display_data",
          "data": {
            "text/plain": [
              "<IPython.core.display.Markdown object>"
            ],
            "text/markdown": "- Summary: The tablet stand purchased was not as sturdy and adjustable as advertised, wobbling easily and not holding angles well.\n- Positives: Prompt delivery.\n- Negatives: Unstable, angles not holding, overpriced.\n- Overall sentiment: Negative\n- Emotions: Disappointment, frustration, dissatisfaction\n\nDear [Customer],\n\nThank you for taking the time to leave a review about the tablet stand you purchased. We are truly sorry to hear about your experience and the product not meeting your expectations. Your feedback is valuable to us, and we will work on improving the quality of our products to ensure customer satisfaction in the future.\n\nSincerely,\n[Your Name]"
          },
          "metadata": {}
        },
        {
          "output_type": "stream",
          "name": "stdout",
          "text": [
            "------\n",
            "\n",
            "\n"
          ]
        },
        {
          "output_type": "display_data",
          "data": {
            "text/plain": [
              "<IPython.core.display.Markdown object>"
            ],
            "text/markdown": "- Summary: Customer is disappointed with the kitchen blender, citing struggles with tougher foods, noise, difficult cleaning, and late delivery.\n- Positives: None mentioned.\n- Negatives: Struggles with tougher foods, noisy, difficult to clean, late delivery.\n- Overall sentiment: Negative\n- Emotions: Disappointment, frustration, annoyance\n\nDear Customer,\n\nThank you for taking the time to share your feedback on our kitchen blender. We are truly sorry to hear about your negative experience with the product. We strive to provide high-quality items and timely delivery, and we apologize for falling short in this instance. Your feedback is valuable to us, and we will use it to improve our products and services in the future.\n\nSincerely,\n[Your Name]"
          },
          "metadata": {}
        },
        {
          "output_type": "stream",
          "name": "stdout",
          "text": [
            "------\n",
            "\n",
            "\n"
          ]
        }
      ]
    },
    {
      "cell_type": "code",
      "source": [
        "# Trying with Gemini\n",
        "\n",
        "responses = []\n",
        "\n",
        "for review in reviews:\n",
        "  prompt = f\"\"\"\n",
        "              Act as a product review analyst.\n",
        "              Your task is to perform the following tasks:\n",
        "\n",
        "              - Summarize the following review below, delimited by triple\n",
        "              backticks in at most 3 lines.\n",
        "              - Highlight both the positives and negatives for the review\n",
        "              - Display the overall sentiment for the review (positive, negative, neutral)\n",
        "              - Display a list of 3 - 5 emotions expressed by the customer\n",
        "              - If the sentiment is positive or neutral write an email and thank them for the review\n",
        "              - If the sentiment is negative apologize and write an email with an appropriate response\n",
        "\n",
        "              ```{review}```\n",
        "              \"\"\"\n",
        "  response = get_completion(prompt, model='gemini-1.5-flash')\n",
        "  responses.append(response)"
      ],
      "metadata": {
        "id": "kQZdygfUoXGT"
      },
      "execution_count": null,
      "outputs": []
    },
    {
      "cell_type": "code",
      "source": [
        "for response in responses:\n",
        "  display(Markdown(response))\n",
        "  print('------')\n",
        "  print('\\n')"
      ],
      "metadata": {
        "colab": {
          "base_uri": "https://localhost:8080/",
          "height": 1000
        },
        "id": "OCsMzs3QodqR",
        "outputId": "51ff4769-2fd1-41e1-c320-cb8213175919"
      },
      "execution_count": null,
      "outputs": [
        {
          "output_type": "display_data",
          "data": {
            "text/plain": [
              "<IPython.core.display.Markdown object>"
            ],
            "text/markdown": "## Review Analysis\n\n**Summary:** The reviewer is highly satisfied with the Bluetooth speaker. They praise its clear sound quality, powerful volume, waterproof functionality, and value for money. They also highlight the fast and secure shipping.\n\n**Positives:**\n* Excellent sound quality with good bass.\n* Waterproof and durable.\n* Compact size with impressive volume.\n* Affordable price.\n* Fast and secure shipping.\n\n**Negatives:** None mentioned.\n\n**Overall Sentiment:** Positive\n\n**Emotions:** Joy, excitement, satisfaction, appreciation, contentment.\n\n**Email:**\n\nSubject: Thank you for your review!\n\nDear [Customer Name],\n\nThank you so much for taking the time to share your positive review about our Bluetooth speaker! We're thrilled to hear that you're enjoying its sound quality, waterproof features, and overall performance. \n\nWe strive to provide our customers with the best possible experience, and your feedback means a lot to us. We're glad you had a great experience with our product and our shipping service.\n\nThank you again for your kind words!\n\nSincerely,\n\n[Your Company Name] \n"
          },
          "metadata": {}
        },
        {
          "output_type": "stream",
          "name": "stdout",
          "text": [
            "------\n",
            "\n",
            "\n"
          ]
        },
        {
          "output_type": "display_data",
          "data": {
            "text/plain": [
              "<IPython.core.display.Markdown object>"
            ],
            "text/markdown": "## Review Analysis:\n\n**Summary:** The customer is very satisfied with their new gaming keyboard, praising its responsiveness, vibrant backlighting, competitive price, swift delivery, and careful packaging.\n\n**Positives:** Responsive keys, vibrant backlighting, good value for price, fast delivery, well-protected packaging.\n\n**Negatives:** None mentioned.\n\n**Overall Sentiment:** Positive\n\n**Emotions:**  Excited, satisfied, happy, impressed, confident. \n\n**Email (Positive Sentiment):**\n\nSubject: Thank you for your glowing review!\n\nDear [Customer Name],\n\nThank you so much for taking the time to share your positive review of our gaming keyboard. We're thrilled to hear you're enjoying its responsiveness, vibrant backlighting, and overall performance. It's great to know you feel like you got a good deal and that the delivery went smoothly.  \n\nYour feedback is invaluable to us, and we're always striving to provide the best possible experience for our customers.  We hope you continue to enjoy your new keyboard for years to come!\n\nSincerely,\n\nThe [Your Company Name] Team \n"
          },
          "metadata": {}
        },
        {
          "output_type": "stream",
          "name": "stdout",
          "text": [
            "------\n",
            "\n",
            "\n"
          ]
        },
        {
          "output_type": "display_data",
          "data": {
            "text/plain": [
              "<IPython.core.display.Markdown object>"
            ],
            "text/markdown": "## Review Analysis\n\n**Summary:** The reviewer is disappointed with their wireless earbuds. They experience issues with sound cutting out, uncomfortable fit, and significantly shorter battery life than advertised. \n\n**Positives:** The earbuds arrived on time. \n\n**Negatives:** Sound cuts out, uncomfortable fit, battery life significantly shorter than advertised, poor quality for the price.\n\n**Overall Sentiment:** Negative\n\n**Emotions:** Disappointment, frustration, anger, regret\n\n**Email Response:**\n\nSubject: We're Sorry to Hear About Your Experience\n\nDear [Customer Name],\n\nThank you for taking the time to share your feedback on your recent purchase of our wireless earbuds. We sincerely apologize that your experience has not met your expectations. \n\nWe understand your frustration with the issues you've encountered, including the sound cutting out, discomfort, and shorter battery life.  We value your feedback and will be investigating these concerns to ensure we provide our customers with the best possible experience. \n\nTo address this situation, we would like to offer you a full refund and return label for the earbuds. Please do not hesitate to contact our customer support team at [Phone number] or [Email address] if you have any questions or need further assistance.\n\nWe appreciate your understanding and hope to have the opportunity to regain your trust in the future.\n\nSincerely,\n\n[Your Company Name] \n"
          },
          "metadata": {}
        },
        {
          "output_type": "stream",
          "name": "stdout",
          "text": [
            "------\n",
            "\n",
            "\n"
          ]
        },
        {
          "output_type": "display_data",
          "data": {
            "text/plain": [
              "<IPython.core.display.Markdown object>"
            ],
            "text/markdown": "## Review Analysis\n\n**Summary:** The customer is extremely dissatisfied with the tablet stand. They found it to be flimsy, unreliable, and overpriced compared to other options. Although the delivery was prompt, the product's poor quality overshadows this positive aspect.\n\n**Positives:** \n* Prompt delivery.\n\n**Negatives:** \n* Unstable and wobbly.\n* Angles don't hold up as promised.\n* Overpriced compared to competitors.\n\n**Overall Sentiment:** Negative.\n\n**Emotions:** Disappointment, frustration, anger, regret.\n\n**Email Response:**\n\nSubject: We're sorry to hear about your experience with the tablet stand.\n\nDear [Customer Name],\n\nThank you for taking the time to share your feedback. We're truly sorry to hear that you're unhappy with the tablet stand and that it did not meet your expectations. We understand your disappointment with the instability, angle issues, and price point.\n\nWe value your feedback and will use it to improve our product and service.  We would like to offer you a full refund or an exchange for a different product. Please let us know which option you prefer. \n\nWe appreciate you bringing this to our attention and hope to regain your trust. \n\nSincerely,\n\n[Your Company Name] \n"
          },
          "metadata": {}
        },
        {
          "output_type": "stream",
          "name": "stdout",
          "text": [
            "------\n",
            "\n",
            "\n"
          ]
        },
        {
          "output_type": "display_data",
          "data": {
            "text/plain": [
              "<IPython.core.display.Markdown object>"
            ],
            "text/markdown": "## Review Analysis:\n\n**Summary:** The reviewer is extremely dissatisfied with the blender. They found it underpowered, noisy, and difficult to clean. Additionally, the delivery was delayed. \n\n**Positives:** None.\n\n**Negatives:** \n* Poor performance (struggles with tougher foods)\n* Excessive noise\n* Difficult to clean\n* Delayed delivery\n\n**Overall Sentiment:** Negative\n\n**Emotions:** Frustration, disappointment, anger, regret\n\n**Email Response:**\n\nSubject: We're Sorry to Hear About Your Experience\n\nDear [Customer Name],\n\nWe are truly sorry to hear about your disappointing experience with our blender. We strive to deliver high-quality products that meet our customers' expectations, and it's clear that this one fell short. \n\nWe understand your frustration with the blender's performance, noise level, cleaning difficulty, and the delayed delivery. We take your feedback seriously and will use it to improve our products and services.\n\nWe would like to offer you a full refund for the blender and a discount on your next purchase. Please contact our customer service team at [Phone Number] or [Email Address] to discuss further.\n\nSincerely,\n\n[Your Company Name] \n"
          },
          "metadata": {}
        },
        {
          "output_type": "stream",
          "name": "stdout",
          "text": [
            "------\n",
            "\n",
            "\n"
          ]
        }
      ]
    },
    {
      "cell_type": "markdown",
      "source": [
        "## Exercise - 2: Paper Analysis and Summarization\n",
        "\n",
        "- Act as a Artificial Intelligence Expert.\n",
        "Transform this research paper abstract in triple backticks\n",
        "into a short concise version of maximum 10 lines for your audience.\n",
        "\n",
        "- Act as a Artificial Intelligence Expert.\n",
        "Transform this research paper abstract in triple backticks\n",
        "into an executive summary for a healthcare company.\n",
        "Have bullet points for pros and cons of ethics in Generative AI as mentioned in the paper.\n",
        "\n",
        "- Act as a Artificial Intelligence Expert.\n",
        "Transform this research paper abstract in triple backticks\n",
        "into an executive summary for a generative AI company solving healthcare problems.\n",
        "Have bullet points for key points mentioned for\n",
        "Generative AI for text, images and structured data based healthcare"
      ],
      "metadata": {
        "id": "eEtB1IOimA0i"
      }
    },
    {
      "cell_type": "code",
      "source": [
        "paper_abstract = f\"\"\"\n",
        "The widespread use of ChatGPT and other emerging technology powered by generative\n",
        "artificial intelligence (AI) has drawn much attention to potential ethical issues, especially in\n",
        "high-stakes applications such as healthcare.1–3 However, less clear is how to resolve such\n",
        "issues beyond following guidelines and regulations that are still under discussion and\n",
        "development. On the other hand, other types of generative AI have been used to synthesize\n",
        "images and other types of data for research and practical purposes, which have resolved some\n",
        "ethical issues and exposed other ethical issues,4,5 but such technology is less often the focus\n",
        "of ongoing ethical discussions. Here we highlight gaps in current ethical discussions of\n",
        "generative AI via a systematic scoping review of relevant existing research in healthcare, and\n",
        "reduce the gaps by proposing an ethics checklist for comprehensive assessment and\n",
        "transparent documentation of ethical discussions in generative AI development. While the\n",
        "checklist can be readily integrated into the current peer review and publication system to\n",
        "enhance generative AI research, it may also be used in broader settings to disclose ethicsrelated considerations in generative AI-powered products (or real-life applications of such\n",
        "products) to help users establish reasonable trust in their capabilities.\n",
        "\n",
        "Current ethical discussions on generative AI in healthcare\n",
        "We conducted a systematic scoping review to analyse current ethical discussions on\n",
        "generative AI in healthcare. Our search in four major academic research databases for\n",
        "relevant publications from January 2013 to July 2023 yielded 2859 articles (see Methods for\n",
        "detailed search strategy and Supplementary Figure S1 for the PRISMA flow diagram), of\n",
        "which 193 articles were included for analysis based on application data modality (text, image,\n",
        "or structured data), ethical issues discussed, generative AI involved, and whether generative\n",
        "AI causes or offers technical solutions for issues raised.\n",
        "\n",
        "Generative AI for text data-based healthcare\n",
        "Forty-one of the 193 articles discussed ethical considerations pertaining to generative AI\n",
        "applications for text data, with 20 articles describing methodological developments or\n",
        "applications of generative AI and the other 21 articles describing review-type works on this\n",
        "topic. Although some of these review-type articles used the general term “generative AI”, the\n",
        "main body and supporting evidence focused on LLMs. Twenty-nine articles had in-depth\n",
        "discussions on ethical issues, whereas the other 12 articles only briefly touched on some\n",
        "ethical aspects.\n",
        "Among the 41 articles, 29 articles focused on discussing ethical issues caused by LLMs (and\n",
        "specifically by GPT in 16 of the articles), covering a wide range of application scenarios and\n",
        "considered the application of all 10 ethical principles identified in the review (see Figure 1),\n",
        "as well as other less discussed concerns such as human-AI interaction, and the rights of\n",
        "LLMs to be considered as co-authors in scientific papers. One paper only commented briefly\n",
        "on the need for ethical considerations in LLMs and is summarised in the “Others” category.\n",
        "Although all ethical principles are equally important, some are discussed more often than\n",
        "others, e.g., non-maleficence (also referred to in the literature as ‘benevolence’), equity, and\n",
        "privacy.\n",
        "Fifteen of the 41 articles aimed to resolve some existing ethical issues (for example,\n",
        "confidentiality of medical data) by using LLMs and other generative AI (e.g., GAN,\n",
        "autoencoder or diffusion), such as, to reduce privacy concerns by generating synthetic\n",
        "medical text, to reduce disparity by providing accessible services and assistance, to detect\n",
        "health-related misinformation, to generate trusted content, and to improve accountability or\n",
        "transparency over existing approaches. While most articles focused on either identifying\n",
        "ethical issues caused by generative AI or proposing generative AI-based solutions, three\n",
        "articles discussed both to provide a more balanced perspective.\n",
        "\n",
        "Generative AI for image and structured data-based healthcare\n",
        "Unlike the diverse application scenarios of generative AI based on text data, for image and\n",
        "structured data, this use of generative AI focuses on data synthesis and encryption. Hence the\n",
        "majority of articles discussed the methodological developments of generative AI as giving\n",
        "rise to a more distinctive and focused set of ethical issues.\n",
        "5\n",
        "Notably, of the 98 articles on image data and 58 articles on structured data, more than half\n",
        "(n=63 for image data and n=33 for structured data) only mentioned ethical considerations as a\n",
        "brief motivation for methodological developments or as a general discussion point. The rest\n",
        "included more in-depth discussions or evaluations of ethical issues. Among these 155 articles\n",
        "(as one article covered multiple modalities), 11 articles were review-type work, where 10\n",
        "articles reviewed methods that mentioned one or two ethical perspectives, and only one\n",
        "article24 discussed detailed ethical concerns on generative AI applications.\n",
        "Resolving privacy issues was the main aim of articles for these two data modalities (n=74 for\n",
        "image data and n=50 for structured data; see Figure 1), predominantly by generating synthetic\n",
        "data using GAN. Eight articles on image data and 9 articles on structured data used\n",
        "generative AI to reduce bias, e.g., by synthesizing data for under-represented subgroups in\n",
        "existing databases. For both data modalities, we did not see explicit discussions on resolving\n",
        "autonomy, integrity, or morality issues using generative AI, and for structured data the articles\n",
        "additionally lacked discussions on trust or transparency.\n",
        "Only 11 articles for image data selectively discussed some ethical issues that generative AI\n",
        "can give rise to, without specific discussions regarding autonomy, integrity, or morality. For\n",
        "structured data, only 4 articles discussed equity, privacy, or data security issues caused by\n",
        "generative AI. Only two articles on structured data included both the cause and resolving\n",
        "perspectives by discussing ethical issues that may arise from limitations of methods\n",
        "proposed, specifically bias induced when synthesizing data in order to resolve privacy issues.\n",
        "\"\"\""
      ],
      "metadata": {
        "id": "4FnITE6zhV-9"
      },
      "execution_count": null,
      "outputs": []
    },
    {
      "cell_type": "code",
      "source": [
        "prompt = f\"\"\"\n",
        "Act as a Artificial Intelligence Expert.\n",
        "Transform this research paper abstract in triple backticks\n",
        "into a short concise version of maximum 10 lines for your audience.\n",
        "\n",
        "\n",
        "Abstract:\n",
        "```{paper_abstract}```\n",
        "\"\"\"\n",
        "response = get_completion(prompt)\n",
        "display(Markdown(response))"
      ],
      "metadata": {
        "id": "6V8bj9PytnwH",
        "colab": {
          "base_uri": "https://localhost:8080/",
          "height": 116
        },
        "outputId": "da520fa9-c3c0-4d86-a77a-63765b9bb670"
      },
      "execution_count": null,
      "outputs": [
        {
          "output_type": "display_data",
          "data": {
            "text/plain": [
              "<IPython.core.display.Markdown object>"
            ],
            "text/markdown": "Generative AI, like ChatGPT, raises ethical concerns in healthcare. Current discussions focus on guidelines and regulations, but gaps exist. A systematic review highlights ethical issues and proposes an ethics checklist for generative AI development. In healthcare, generative AI for text data addresses ethical considerations, while image and structured data focus on data synthesis and encryption. Privacy concerns are a key issue addressed by generative AI, with some articles also tackling bias and misinformation. More discussions are needed on autonomy, integrity, and morality issues in generative AI applications for structured data and image data."
          },
          "metadata": {}
        }
      ]
    },
    {
      "cell_type": "code",
      "source": [
        "prompt = f\"\"\"\n",
        "Act as a Artificial Intelligence Expert.\n",
        "Transform this research paper abstract in triple backticks\n",
        "into an executive summary for a healthcare company.\n",
        "Have bullet points for pros and cons of ethics in Generative AI as mentioned in the paper.\n",
        "\n",
        "\n",
        "Abstract:\n",
        "```{paper_abstract}```\n",
        "\"\"\"\n",
        "response = get_completion(prompt)\n",
        "display(Markdown(response))"
      ],
      "metadata": {
        "id": "VoOtVYKttn1d",
        "colab": {
          "base_uri": "https://localhost:8080/",
          "height": 360
        },
        "outputId": "dbba484c-a92e-4625-e2b8-03fb8c65aa4a"
      },
      "execution_count": null,
      "outputs": [
        {
          "output_type": "display_data",
          "data": {
            "text/plain": [
              "<IPython.core.display.Markdown object>"
            ],
            "text/markdown": "Executive Summary:\n\nGenerative artificial intelligence (AI) technology, such as ChatGPT, is increasingly being used in high-stakes applications like healthcare, raising ethical concerns. This paper highlights the gaps in current ethical discussions surrounding generative AI in healthcare and proposes an ethics checklist for comprehensive assessment and transparent documentation.\n\nPros of Ethics in Generative AI:\n- Can help resolve existing ethical issues in healthcare, such as confidentiality of medical data\n- Offers solutions to reduce privacy concerns by generating synthetic medical text\n- Provides accessible services and assistance to reduce disparity in healthcare\n- Detects health-related misinformation and generates trusted content\n- Improves accountability and transparency over existing approaches\n\nCons of Ethics in Generative AI:\n- Some ethical principles are discussed more often than others, potentially leading to neglect of certain important aspects\n- Limited discussions on resolving autonomy, integrity, or morality issues using generative AI in image and structured data-based healthcare\n- Lack of explicit discussions on trust or transparency in structured data applications\n- Bias may be induced when synthesizing data to resolve privacy issues, leading to ethical concerns\n\nOverall, integrating ethics considerations into generative AI development can enhance research and help establish trust in the capabilities of AI-powered products in healthcare."
          },
          "metadata": {}
        }
      ]
    },
    {
      "cell_type": "code",
      "source": [
        "prompt = f\"\"\"\n",
        "Act as a Artificial Intelligence Expert.\n",
        "Transform this research paper abstract in triple backticks\n",
        "into an executive summary for a generative AI company solving healthcare problems.\n",
        "Have bullet points for key points mentioned for\n",
        "Generative AI for text, images and structured data based healthcare\n",
        "\n",
        "\n",
        "Abstract:\n",
        "```{paper_abstract}```\n",
        "\"\"\"\n",
        "response = get_completion(prompt)\n",
        "display(Markdown(response))"
      ],
      "metadata": {
        "colab": {
          "base_uri": "https://localhost:8080/",
          "height": 433
        },
        "id": "uLB_1U-mm345",
        "outputId": "ba070dc9-e3ce-456e-d826-9d43b74f277e"
      },
      "execution_count": null,
      "outputs": [
        {
          "output_type": "display_data",
          "data": {
            "text/plain": [
              "<IPython.core.display.Markdown object>"
            ],
            "text/markdown": "### Executive Summary:\n\n#### Generative AI for Text, Images, and Structured Data in Healthcare\n\n- **Generative AI in Healthcare:** \n  - The use of generative AI, such as ChatGPT, in healthcare has raised ethical concerns.\n  - Current discussions focus on guidelines and regulations, but gaps exist in addressing these issues comprehensively.\n\n- **Ethics Checklist Proposal:** \n  - A systematic scoping review identified gaps in ethical discussions of generative AI in healthcare.\n  - Proposed an ethics checklist for transparent documentation and assessment of ethical considerations in generative AI development.\n\n- **Text Data-Based Healthcare:**\n  - 41 articles discussed ethical considerations for generative AI applications in text data.\n  - Issues included privacy, equity, and human-AI interaction, with a focus on Language Models (LLMs) like GPT.\n\n- **Image and Structured Data-Based Healthcare:**\n  - Majority of articles focused on data synthesis and encryption using generative AI for image and structured data.\n  - Privacy concerns were the main focus, with some articles addressing bias reduction and ethical issues related to data synthesis.\n\n- **Key Points:**\n  - Generative AI is being used in healthcare for text, image, and structured data applications.\n  - Ethical considerations include privacy, equity, and transparency.\n  - Proposed ethics checklist can enhance ethical discussions and trust in generative AI-powered healthcare products."
          },
          "metadata": {}
        }
      ]
    },
    {
      "cell_type": "markdown",
      "source": [
        "Adapting the prompt generated by Claude prompt generator earlier"
      ],
      "metadata": {
        "id": "P82RCUAJ7g8i"
      }
    },
    {
      "cell_type": "code",
      "source": [
        "prompt = f\"\"\"\n",
        "            You are tasked with summarizing a report on the ethical discussion of generative AI in healthcare.\n",
        "\n",
        "            Your summary should focus on the key points mentioned for Generative AI applications in text, images, and structured data-based healthcare.\n",
        "\n",
        "            This summary is intended for a generative AI company solving healthcare problems.\n",
        "\n",
        "            Please follow these exact steps to create your summary:\n",
        "\n",
        "              1. Carefully read and analyze the provided report.\n",
        "\n",
        "              2. Identify the key points discussed in the report, specifically focusing on:\n",
        "                a) Generative AI for text-based healthcare applications\n",
        "                b) Generative AI for image-based healthcare applications\n",
        "                c) Generative AI for structured data-based healthcare applications\n",
        "\n",
        "              3. For each of these three areas, extract the most important ethical considerations, potential benefits, and challenges mentioned in the report.\n",
        "\n",
        "              4. Consider the perspective of a generative AI company solving healthcare problems. Highlight points that would be particularly relevant or important for such a company to consider.\n",
        "\n",
        "              5. Organize your summary into the following structure with section headings:\n",
        "                a) Brief introduction (1-2 sentences)\n",
        "                b) Key points for text-based healthcare AI\n",
        "                c) Key points for image-based healthcare AI\\\n",
        "                d) Key points for structured data-based healthcare AI\n",
        "                e) Overall ethical considerations and implications for AI companies in healthcare\n",
        "\n",
        "              6. Keep your summary concise yet comprehensive, aiming for about 400-500 words in total.\n",
        "\n",
        "              7. Use clear, professional language appropriate for a business audience in the healthcare and AI sectors.\n",
        "\n",
        "              8. Avoid including your personal opinions or additional information not present in the original report.\n",
        "\n",
        "            Here is the report to summarize:\n",
        "            <report>\n",
        "            {paper_abstract}\n",
        "            </report>\n",
        "\n",
        "            Please provide your summary within <summary> tags.\n",
        "            Begin your summary now:\n",
        "\n",
        "            <summary>\n",
        "\n",
        "            [Your summary goes here]\n",
        "\n",
        "            </summary>\n",
        "\"\"\"\n",
        "response = get_completion(prompt)\n",
        "display(Markdown(response))"
      ],
      "metadata": {
        "colab": {
          "base_uri": "https://localhost:8080/",
          "height": 430
        },
        "id": "9aiAm7Fe6Q8n",
        "outputId": "a87341be-14ea-4e76-a11f-541f006f1037"
      },
      "execution_count": null,
      "outputs": [
        {
          "output_type": "display_data",
          "data": {
            "text/plain": [
              "<IPython.core.display.Markdown object>"
            ],
            "text/markdown": "<summary>\n\nThe report delves into the ethical considerations surrounding generative AI in healthcare, focusing on text, image, and structured data-based applications. \n\nGenerative AI for text-based healthcare applications:\n- Ethical considerations include non-maleficence, equity, and privacy.\n- Benefits include resolving issues like confidentiality of medical data and detecting health-related misinformation.\n- Challenges involve ensuring human-AI interaction and considering the rights of AI models as co-authors.\n\nGenerative AI for image-based healthcare applications:\n- Privacy concerns are a key focus, with synthetic data generation using GANs being a common solution.\n- Addressing bias in under-represented subgroups is another benefit.\n- Challenges include the lack of discussions on autonomy, integrity, and morality issues.\n\nGenerative AI for structured data-based healthcare applications:\n- Privacy issues are a primary concern, with synthetic data generation being a common approach.\n- Resolving bias and improving data security are highlighted benefits.\n- Challenges include the lack of discussions on trust, transparency, and morality issues.\n\nOverall ethical considerations and implications for AI companies in healthcare:\n- The need for a comprehensive ethics checklist to guide ethical discussions and transparent documentation.\n- Integrating ethical considerations into peer review processes and product development to build user trust.\n- Emphasizing the importance of addressing ethical principles like non-maleficence, equity, and privacy in generative AI applications in healthcare.\n\nFor a generative AI company in healthcare, it is crucial to prioritize ethical considerations, address privacy concerns through synthetic data generation, and ensure transparency and accountability in AI-powered products. By integrating ethical guidelines into research and development processes, companies can build trust with users and contribute to the responsible advancement of generative AI in healthcare.\n\n</summary>"
          },
          "metadata": {}
        }
      ]
    },
    {
      "cell_type": "code",
      "source": [
        "response"
      ],
      "metadata": {
        "colab": {
          "base_uri": "https://localhost:8080/",
          "height": 122
        },
        "id": "bm1_oDPe6LBF",
        "outputId": "56d9b78b-3868-4b8e-812f-8e0c61005c67"
      },
      "execution_count": null,
      "outputs": [
        {
          "output_type": "execute_result",
          "data": {
            "text/plain": [
              "'<summary>\\n\\nThe report delves into the ethical considerations surrounding generative AI in healthcare, focusing on text, image, and structured data-based applications. \\n\\nGenerative AI for text-based healthcare applications:\\n- Ethical considerations include non-maleficence, equity, and privacy.\\n- Benefits include resolving issues like confidentiality of medical data and detecting health-related misinformation.\\n- Challenges involve ensuring human-AI interaction and considering the rights of AI models as co-authors.\\n\\nGenerative AI for image-based healthcare applications:\\n- Privacy concerns are a key focus, with synthetic data generation using GANs being a common solution.\\n- Addressing bias in under-represented subgroups is another benefit.\\n- Challenges include the lack of discussions on autonomy, integrity, and morality issues.\\n\\nGenerative AI for structured data-based healthcare applications:\\n- Privacy issues are a primary concern, with synthetic data generation being a common approach.\\n- Resolving bias and improving data security are highlighted benefits.\\n- Challenges include the lack of discussions on trust, transparency, and morality issues.\\n\\nOverall ethical considerations and implications for AI companies in healthcare:\\n- The need for a comprehensive ethics checklist to guide ethical discussions and transparent documentation.\\n- Integrating ethical considerations into peer review processes and product development to build user trust.\\n- Emphasizing the importance of addressing ethical principles like non-maleficence, equity, and privacy in generative AI applications in healthcare.\\n\\nFor a generative AI company in healthcare, it is crucial to prioritize ethical considerations, address privacy concerns through synthetic data generation, and ensure transparency and accountability in AI-powered products. By integrating ethical guidelines into research and development processes, companies can build trust with users and contribute to the responsible advancement of generative AI in healthcare.\\n\\n</summary>'"
            ],
            "application/vnd.google.colaboratory.intrinsic+json": {
              "type": "string"
            }
          },
          "metadata": {},
          "execution_count": 37
        }
      ]
    },
    {
      "cell_type": "markdown",
      "source": [
        "## Exercise 3 - Marketing Adverts for Smartphone\n",
        "\n",
        "You have the technical fact sheets of one smartphone. Try some iterative prompt engineering and do the following:\n",
        "\n",
        "1. Generate marketing product description for the smartphone\n",
        "\n",
        "2. Custom product description which has the following:\n",
        "\n",
        "```\n",
        "The description should follow this format:\n",
        "\n",
        "Product Name: <Name of the smartphone>\n",
        "​\n",
        "Description: <Brief Overview of the features>\n",
        "​\n",
        "Product Specifications:\n",
        "<Table with key product feature specifications>\n",
        "​\n",
        "The description should focus on the most important features\n",
        "a customer might look for in a phone including the foldable display screen,\n",
        "processing power, RAM, camera and battery life.\n",
        "​\n",
        "After the description, the table should have the\n",
        "key specifications of the product. It should have two columns.\n",
        "The first column should have 'Feature'\n",
        "and the second column should have 'Specification'\n",
        "and try to put exact numeric values for features if they exist.\n",
        "Only put the most important features in the table which matter to users.\n",
        "```\n",
        "\n",
        "3. Custom product description focusing on specific aspects like display, camera and in less than 60 words"
      ],
      "metadata": {
        "id": "NIo7i6vNmRJO"
      }
    },
    {
      "cell_type": "code",
      "source": [
        "fact_sheet_mobile = \"\"\"\n",
        "PRODUCT NAME\n",
        "Samsung Galaxy Z Fold4 5G Black\n",
        "​\n",
        "PRODUCT OVERVIEW\n",
        "Stands out. Stands up. Unfolds.\n",
        "The Galaxy Z Fold4 does a lot in one hand with its 15.73 cm(6.2-inch) Cover Screen.\n",
        "Unfolded, the 19.21 cm(7.6-inch) Main Screen lets you really get into the zone.\n",
        "Pushed-back bezels and the Under Display Camera means there's more screen\n",
        "and no black dot getting between you and the breathtaking Infinity Flex Display.\n",
        "Do more than more with Multi View. Whether toggling between texts or catching up\n",
        "on emails, take full advantage of the expansive Main Screen with Multi View.\n",
        "PC-like power thanks to Qualcomm Snapdragon 8+ Gen 1 processor in your pocket,\n",
        "transforms apps optimized with One UI to give you menus and more in a glance\n",
        "New Taskbar for PC-like multitasking. Wipe out tasks in fewer taps. Add\n",
        "apps to the Taskbar for quick navigation and bouncing between windows when\n",
        "you're in the groove.4 And with App Pair, one tap launches up to three apps,\n",
        "all sharing one super-productive screen\n",
        "Our toughest Samsung Galaxy foldables ever. From the inside out,\n",
        "Galaxy Z Fold4 is made with materials that are not only stunning,\n",
        "but stand up to life's bumps and fumbles. The front and rear panels,\n",
        "made with exclusive Corning Gorilla Glass Victus+, are ready to resist\n",
        "sneaky scrapes and scratches. With our toughest aluminum frame made with\n",
        "Armor Aluminum, this is one durable smartphone.\n",
        "World’s first water resistant foldable smartphones. Be adventurous, rain\n",
        "or shine. You don't have to sweat the forecast when you've got one of the\n",
        "world's first water-resistant foldable smartphones.\n",
        "​\n",
        "PRODUCT SPECS\n",
        "OS - Android 12.0\n",
        "RAM - 12 GB\n",
        "Product Dimensions - 15.5 x 13 x 0.6 cm; 263 Grams\n",
        "Batteries - 2 Lithium Ion batteries required. (included)\n",
        "Item model number - SM-F936BZKDINU_5\n",
        "Wireless communication technologies - Cellular\n",
        "Connectivity technologies - Bluetooth, Wi-Fi, USB, NFC\n",
        "GPS - True\n",
        "Special features - Fast Charging Support, Dual SIM, Wireless Charging, Built-In GPS, Water Resistant\n",
        "Other display features - Wireless\n",
        "Device interface - primary - Touchscreen\n",
        "Resolution - 2176x1812\n",
        "Other camera features - Rear, Front\n",
        "Form factor - Foldable Screen\n",
        "Colour - Phantom Black\n",
        "Battery Power Rating - 4400\n",
        "Whats in the box - SIM Tray Ejector, USB Cable\n",
        "Manufacturer - Samsung India pvt Ltd\n",
        "Country of Origin - China\n",
        "Item Weight - 263 g\n",
        "\"\"\""
      ],
      "metadata": {
        "id": "1F5spdPWmWrr"
      },
      "execution_count": null,
      "outputs": []
    },
    {
      "cell_type": "code",
      "source": [
        "prompt = f\"\"\"\n",
        "Act as a marketing manager.\n",
        "Your task is to help a marketing team create a\n",
        "description for a retail website advert of a product based\n",
        "on a technical fact sheet specifications for a mobile smartphone\n",
        "in triple backticks.\n",
        "​\n",
        "Write a brief product description\n",
        "\n",
        "Technical specifications:\n",
        "```{fact_sheet_mobile}```\n",
        "\"\"\"\n",
        "response = get_completion(prompt)\n",
        "display(Markdown(response))"
      ],
      "metadata": {
        "id": "QXsNT5cptrE0",
        "colab": {
          "base_uri": "https://localhost:8080/",
          "height": 169
        },
        "outputId": "9d435c97-ce0c-4d11-b766-9ecb04abb90a"
      },
      "execution_count": null,
      "outputs": [
        {
          "output_type": "display_data",
          "data": {
            "text/plain": [
              "<IPython.core.display.Markdown object>"
            ],
            "text/markdown": "Introducing the Samsung Galaxy Z Fold4 5G Black, the ultimate smartphone that stands out, stands up, and unfolds to reveal a world of possibilities. With a 6.2-inch Cover Screen and a 7.6-inch Main Screen, you can immerse yourself in a truly expansive display experience like never before.\n\nPowered by the Qualcomm Snapdragon 8+ Gen 1 processor and running on Android 12.0, this smartphone offers PC-like power in the palm of your hand. The new Taskbar feature allows for seamless multitasking, while the App Pair function lets you launch up to three apps simultaneously on one screen.\n\nNot only is the Galaxy Z Fold4 stylish and durable, but it is also the world's first water-resistant foldable smartphone, making it perfect for any adventure, rain or shine. With 12GB of RAM and a battery power rating of 4400, this smartphone is ready to keep up with your busy lifestyle.\n\nExperience the future of smartphones with the Samsung Galaxy Z Fold4 5G Black. Get yours today and unfold a new world of possibilities."
          },
          "metadata": {}
        }
      ]
    },
    {
      "cell_type": "code",
      "source": [
        "prompt = f\"\"\"\n",
        "Act as a marketing manager.\n",
        "Your task is to help a marketing team create a\n",
        "description for a retail website advert of a product based\n",
        "on a technical fact sheet specifications for a mobile smartphone\n",
        "in triple backticks.\n",
        "​\n",
        "Write a brief product description.\n",
        "\n",
        "The description should follow this format:\n",
        "\n",
        "<h3>Product Name<h3>\n",
        "\n",
        "<Name of the smartphone>\n",
        "​\n",
        "<h3>Description<h3>\n",
        "\n",
        "<Brief Overview of the features>\n",
        "​\n",
        "<h3>Product Specifications<h3>\n",
        "\n",
        "<Table with key product feature specifications>\n",
        "​\n",
        "The description should only focus on the most important features\n",
        "a customer might look for in a phone including the foldable display screen,\n",
        "processing power, RAM, camera and battery life.\n",
        "​\n",
        "After the description, the table should have the\n",
        "key specifications of the product. It should have two columns.\n",
        "The first column should have 'Feature'\n",
        "and the second column should have 'Specification'\n",
        "and try to put exact numeric values for features if they exist.\n",
        "Only put the most important features in the table which matter to users.\n",
        "\n",
        "Technical specifications:\n",
        "```{fact_sheet_mobile}```\n",
        "\"\"\"\n",
        "\n",
        "response = get_completion(prompt)\n",
        "display(Markdown(response))"
      ],
      "metadata": {
        "id": "A0kIyc4ZtrIU",
        "colab": {
          "base_uri": "https://localhost:8080/",
          "height": 575
        },
        "outputId": "ecb3b827-5663-40cc-c6a8-e42f7e8797a5"
      },
      "execution_count": null,
      "outputs": [
        {
          "output_type": "display_data",
          "data": {
            "text/plain": [
              "<IPython.core.display.Markdown object>"
            ],
            "text/markdown": "<h3>Product Name</h3>\n\nSamsung Galaxy Z Fold4 5G Black\n\n<h3>Description</h3>\n\nExperience the future of smartphones with the Samsung Galaxy Z Fold4. This innovative device features a foldable display screen that unfolds to reveal a stunning 7.6-inch Main Screen, allowing you to immerse yourself in your favorite content like never before. With a powerful Qualcomm Snapdragon 8+ Gen 1 processor, multitasking is a breeze, and the new Taskbar feature makes it easy to navigate between apps. Plus, the Galaxy Z Fold4 is built to last, with a durable design that includes Corning Gorilla Glass Victus+ and water resistance.\n\n<h3>Product Specifications</h3>\n\n| Feature              | Specification                  |\n|----------------------|--------------------------------|\n| OS                   | Android 12.0                   |\n| RAM                  | 12 GB                          |\n| Display              | 15.73 cm Cover Screen, 19.21 cm Main Screen |\n| Processor            | Qualcomm Snapdragon 8+ Gen 1   |\n| Camera               | Rear and Front                  |\n| Battery              | 4400 mAh                       |\n| Special Features     | Fast Charging, Wireless Charging, Water Resistant |\n| Connectivity         | Bluetooth, Wi-Fi, USB, NFC     |\n| Color                | Phantom Black                  |\n| Weight               | 263 g                          |"
          },
          "metadata": {}
        }
      ]
    },
    {
      "cell_type": "code",
      "source": [
        "prompt = f\"\"\"\n",
        "Act as a marketing manager.\n",
        "Your task is to help a marketing team create a\n",
        "description for a retail website advert of a product based\n",
        "on a technical fact sheet specifications for a mobile smartphone\n",
        "in triple backticks.\n",
        "\n",
        "Write a catchy product description which uses at most 60 words\n",
        "and focuses on the most important things about the smartphone\n",
        "which might matter to users like display and camera.\n",
        "Use relevant emojis as needed.\n",
        "\n",
        "Technical specifications:\n",
        "```{fact_sheet_mobile}```\n",
        "\"\"\"\n",
        "\n",
        "response = get_completion(prompt)\n",
        "display(Markdown(response))"
      ],
      "metadata": {
        "colab": {
          "base_uri": "https://localhost:8080/",
          "height": 81
        },
        "id": "ed-Y_8IvoPUt",
        "outputId": "13f1dfe9-204d-47ae-90c4-f0884a3e4be6"
      },
      "execution_count": null,
      "outputs": [
        {
          "output_type": "display_data",
          "data": {
            "text/plain": [
              "<IPython.core.display.Markdown object>"
            ],
            "text/markdown": "Introducing the Samsung Galaxy Z Fold4 5G Black 🌟 Unfold endless possibilities with a 7.6-inch Main Screen and Under Display Camera for a seamless viewing experience. Power through tasks with Qualcomm Snapdragon 8+ Gen 1 processor and multitask like a pro with the new Taskbar feature. Get your hands on the world's first water-resistant foldable smartphone! 📱💦 #SamsungGalaxyZFold4 #UnfoldTheFuture"
          },
          "metadata": {}
        }
      ]
    },
    {
      "cell_type": "code",
      "source": [
        "response"
      ],
      "metadata": {
        "colab": {
          "base_uri": "https://localhost:8080/",
          "height": 70
        },
        "id": "0JI7l0yjq_V3",
        "outputId": "ed342d52-5e9b-4890-bf64-c38982b544c6"
      },
      "execution_count": null,
      "outputs": [
        {
          "output_type": "execute_result",
          "data": {
            "text/plain": [
              "'Introducing the Samsung Galaxy Z Fold4 5G Black - the ultimate multitasking powerhouse. With a stunning 6.2-inch Cover Screen and a massive 7.6-inch Main Screen, immerse yourself in the Infinity Flex Display. Powered by Qualcomm Snapdragon 8+ Gen 1 processor, experience PC-like power on-the-go. Plus, with water resistance and Gorilla Glass Victus+, this foldable smartphone is built to last. Elevate your mobile experience today!'"
            ],
            "application/vnd.google.colaboratory.intrinsic+json": {
              "type": "string"
            }
          },
          "metadata": {},
          "execution_count": 23
        }
      ]
    },
    {
      "cell_type": "markdown",
      "source": [
        "## Exercise 4 - IT Support Resolution\n",
        "\n",
        "Ask ChatGPT to act as a customer support agent, process each customer ticket message and output the response in JSON with the following fields\n",
        "```\n",
        "orig_msg: The original customer message\n",
        "orig_lang: Detected language of the customer message e.g. Spanish\n",
        "category: 1-2 word describing the category of the problem\n",
        "trans_msg: Translated customer message in English\n",
        "response: Response to the customer in orig_lang\n",
        "trans_response: Response to the customer in English\n",
        "```\n",
        "\n",
        "Hint: Use the following prompt in a for loop\n",
        "\n",
        "```\n",
        "prompt = f\"\"\"\n",
        "            Act as a customer support agent. For the IT support message mentioned below\n",
        "            in triple backticks, create a response is JSON in the following format:\n",
        "\n",
        "            {{\n",
        "                orig_msg: The original customer message\n",
        "                orig_lang: Detected language of the customer message e.g. Spanish\n",
        "                category: 1-2 word describing the category of the problem\n",
        "                trans_msg: Translated customer message in English\n",
        "                response: Response to the customer in orig_lang\n",
        "                trans_response: Response to the customer in English\n",
        "            }}\n",
        "\n",
        "            Message:\n",
        "            '''{msg}'''\n",
        "            \"\"\"\n",
        "```"
      ],
      "metadata": {
        "id": "_VBDwjHlowmk"
      }
    },
    {
      "cell_type": "code",
      "source": [
        "it_support_queue = [\n",
        "    \"Não consigo sincronizar meus contatos com o telefone. Sempre recebo uma mensagem de falha.\",\n",
        "    \"Ho problemi a stampare i documenti da remoto. Il lavoro non viene inviato alla stampante di rete.\",\n",
        "    \"プリンターのトナーを交換しましたが、印刷品質が低下しています。サポートが必要です。\",\n",
        "    \"Я не могу войти в систему учета времени, появляется сообщение об ошибке. Мне нужна помощь.\",\n",
        "    \"Internet bağlantım çok yavaş ve bazen tamamen kesiliyor. Yardım eder misiniz?\",\n",
        "    \"Не могу установить обновление безопасности. Появляется код ошибки. Помогите, пожалуйста.\"\n",
        "]"
      ],
      "metadata": {
        "id": "ZrRFJVSMoDqa"
      },
      "execution_count": null,
      "outputs": []
    },
    {
      "cell_type": "code",
      "source": [
        "responses = []\n",
        "\n",
        "for msg in it_support_queue:\n",
        "  prompt = f\"\"\"\n",
        "            Act as a customer support agent. For the IT support message mentioned below\n",
        "            in triple backticks, create a response in JSON in the following format:\n",
        "\n",
        "            {{\n",
        "                orig_msg: The original customer message\n",
        "                orig_lang: Detected language of the customer message e.g. Spanish\n",
        "                category: 1-2 word describing the category of the problem\n",
        "                trans_msg: Translated customer message in English\n",
        "                response: Response to the customer in orig_lang\n",
        "                trans_response: Response to the customer in English\n",
        "            }}\n",
        "\n",
        "            Message:\n",
        "            '''{msg}'''\n",
        "            \"\"\"\n",
        "  response = get_completion(prompt)\n",
        "  responses.append(response)"
      ],
      "metadata": {
        "id": "LUluiGOsts0z"
      },
      "execution_count": null,
      "outputs": []
    },
    {
      "cell_type": "code",
      "source": [
        "for response in responses:\n",
        "  print(response)\n",
        "  print('-----')\n",
        "  print('\\n')"
      ],
      "metadata": {
        "id": "kjtsm77ets3h",
        "colab": {
          "base_uri": "https://localhost:8080/"
        },
        "outputId": "c40a676a-99a4-45ea-e6db-d919588aa2c7"
      },
      "execution_count": null,
      "outputs": [
        {
          "output_type": "stream",
          "name": "stdout",
          "text": [
            "{\n",
            "    orig_msg: \"Não consigo sincronizar meus contatos com o telefone. Sempre recebo uma mensagem de falha.\"\n",
            "    orig_lang: \"Portuguese\"\n",
            "    category: \"Syncing\"\n",
            "    trans_msg: \"I can't sync my contacts with the phone. I always receive a failure message.\"\n",
            "    response: \"Obrigado por relatar o problema. Parece que pode haver um problema de conexão entre o telefone e a conta de sincronização. Recomendamos verificar as configurações de sincronização e tentar novamente. Se o problema persistir, entre em contato conosco para obter assistência adicional.\"\n",
            "    trans_response: \"Thank you for reporting the issue. It seems there may be a connection problem between the phone and the sync account. We recommend checking the sync settings and trying again. If the issue persists, please contact us for further assistance.\"\n",
            "}\n",
            "-----\n",
            "\n",
            "\n",
            "{\n",
            "    orig_msg: \"Ho problemi a stampare i documenti da remoto. Il lavoro non viene inviato alla stampante di rete.\"\n",
            "    orig_lang: \"Italian\"\n",
            "    category: \"Printing\"\n",
            "    trans_msg: \"I am having trouble printing documents remotely. The job is not being sent to the network printer.\"\n",
            "    response: \"Grazie per averci contattato. Per risolvere il problema, ti consigliamo di controllare la connessione di rete e assicurarti che la stampante sia correttamente configurata per la stampa remota.\"\n",
            "    trans_response: \"Thank you for reaching out. To resolve the issue, we recommend checking the network connection and ensuring that the printer is properly configured for remote printing.\"\n",
            "}\n",
            "-----\n",
            "\n",
            "\n",
            "{\n",
            "    orig_msg: \"プリンターのトナーを交換しましたが、印刷品質が低下しています。サポートが必要です。\",\n",
            "    orig_lang: \"Japanese\",\n",
            "    category: \"Printer\",\n",
            "    trans_msg: \"I replaced the printer toner but the print quality has decreased. I need support.\",\n",
            "    response: \"トナーを正しく交換した後、プリンターの印刷品質が低下している場合、まずはプリンターを再起動してみてください。それでも問題が解決しない場合は、プリンタードライバーの更新やメンテナンスが必要かもしれません。お手伝いさせていただきます。\",\n",
            "    trans_response: \"If the print quality of the printer has decreased after replacing the toner correctly, please try restarting the printer first. If the problem still persists, updating or maintaining the printer driver may be necessary. I will assist you with this.\"\n",
            "}\n",
            "-----\n",
            "\n",
            "\n",
            "{\n",
            "    orig_msg: \"Я не могу войти в систему учета времени, появляется сообщение об ошибке. Мне нужна помощь.\",\n",
            "    orig_lang: \"Russian\",\n",
            "    category: \"Login Issue\",\n",
            "    trans_msg: \"I can't log into the time tracking system, an error message appears. I need help.\",\n",
            "    response: \"Пожалуйста, попробуйте сбросить пароль и повторно войти в систему. Если проблема сохраняется, обратитесь в службу поддержки.\",\n",
            "    trans_response: \"Please try resetting your password and logging back into the system. If the issue persists, contact support.\"\n",
            "}\n",
            "-----\n",
            "\n",
            "\n",
            "{\n",
            "    orig_msg: \"Internet bağlantım çok yavaş ve bazen tamamen kesiliyor. Yardım eder misiniz?\"\n",
            "    orig_lang: \"Turkish\"\n",
            "    category: \"Internet Connectivity\"\n",
            "    trans_msg: \"My internet connection is very slow and sometimes completely cuts off. Can you help?\"\n",
            "    response: \"Evet, size yardımcı olmaktan memnuniyet duyarız. Lütfen modeminizi ve router'ınızı kontrol edin ve ardından bize geri bildirim verin.\"\n",
            "    trans_response: \"Yes, we would be happy to help you. Please check your modem and router and then give us feedback.\"\n",
            "}\n",
            "-----\n",
            "\n",
            "\n",
            "{\n",
            "    orig_msg: \"Не могу установить обновление безопасности. Появляется код ошибки. Помогите, пожалуйста.\",\n",
            "    orig_lang: \"Russian\",\n",
            "    category: \"Installation\",\n",
            "    trans_msg: \"I can't install the security update. An error code appears. Please help.\",\n",
            "    response: \"Пожалуйста, попробуйте перезагрузить компьютер и повторить попытку установки обновления. Если проблема сохраняется, пожалуйста, свяжитесь с нашей службой поддержки.\",\n",
            "    trans_response: \"Please try restarting your computer and trying to install the update again. If the problem persists, please contact our support team.\"\n",
            "}\n",
            "-----\n",
            "\n",
            "\n"
          ]
        }
      ]
    },
    {
      "cell_type": "markdown",
      "source": [
        "## Exercise 5 - Synthetic Data Generation\n",
        "\n",
        "Ask ChatGPT to generate synthetic data for you which can be used for few-shot prompting or training models"
      ],
      "metadata": {
        "id": "vDkUijhs9vN5"
      }
    },
    {
      "cell_type": "code",
      "source": [
        "prompt = \"\"\"You are an expert English linguist with a solid experience of how social media platforms\n",
        "like Twitter function.\n",
        "\n",
        "Generate five positive and five negative movie-review tweets.\n",
        "\n",
        "Constraints: Make sure that the length of tweet is within 250 characters.\n",
        "\"\"\"\n",
        "\n",
        "response = get_completion(prompt)\n",
        "display(Markdown(response))"
      ],
      "metadata": {
        "colab": {
          "base_uri": "https://localhost:8080/",
          "height": 461
        },
        "id": "vIuU_8938-8O",
        "outputId": "2b3e25c7-32c5-4836-bf3e-ff7c5b656ccb"
      },
      "execution_count": null,
      "outputs": [
        {
          "output_type": "display_data",
          "data": {
            "text/plain": [
              "<IPython.core.display.Markdown object>"
            ],
            "text/markdown": "Positive movie-review tweets:\n1. \"Just watched the new movie and I'm blown away! The acting, cinematography, and storyline were all top-notch. A must-see for all movie lovers! #moviebuff #5stars\"\n2. \"Incredible film! The special effects were mind-blowing and the plot kept me on the edge of my seat the whole time. Definitely worth the hype! #blockbuster #mustwatch\"\n3. \"Just saw the most heartwarming movie ever. The characters were so relatable and the message was so powerful. I laughed, I cried, and I left feeling inspired. #feelgoodmovie #emotional\"\n4. \"Wow, just finished watching the new movie and I can't stop thinking about it. The twists and turns kept me guessing until the very end. A true masterpiece! #mindblown #mustsee\"\n5. \"Absolutely loved the new movie! The performances were outstanding and the soundtrack was perfect. A true cinematic gem that deserves all the praise. #masterpiece #oscarworthy\"\n\nNegative movie-review tweets:\n1. \"Just wasted 2 hours of my life watching the new movie. The plot was predictable, the acting was subpar, and I left feeling disappointed. #disappointing #wasteoftime\"\n2. \"The new movie was a complete letdown. The storyline was confusing, the characters were unlikable, and I couldn't wait for it to be over. #disappointed #notworthit\"\n3. \"I had high hopes for the new movie but it fell flat. The pacing was off, the dialogue was cringeworthy, and I found myself checking my watch throughout. #underwhelming #disappointing\"\n4. \"Just watched the new movie and I have to say, it was a total snoozefest. The plot dragged on, the acting was wooden, and I struggled to stay awake. #boring #snooze\"\n5. \"Avoid the new movie at all costs. The writing was lazy, the direction was uninspired, and I left the theater feeling like I had wasted my money. #avoid #disappointing\""
          },
          "metadata": {}
        }
      ]
    },
    {
      "cell_type": "code",
      "source": [
        "prompt = \"\"\"You are an expert English linguist with a solid experience of how retail websites like Amazon work.\n",
        "\n",
        "Generate three positive and three negative laptop reviews. They should be detailed.\n",
        "\n",
        "Constraints: Make sure that the laptop product reviews contain a maximum of 100 words.\n",
        "\"\"\"\n",
        "\n",
        "response = get_completion(prompt)\n",
        "display(Markdown(response))"
      ],
      "metadata": {
        "colab": {
          "base_uri": "https://localhost:8080/",
          "height": 485
        },
        "id": "_W27k0z09OHt",
        "outputId": "d8f4c2e5-56b6-46ef-91e0-abf4bf13451f"
      },
      "execution_count": null,
      "outputs": [
        {
          "output_type": "display_data",
          "data": {
            "text/plain": [
              "<IPython.core.display.Markdown object>"
            ],
            "text/markdown": "Positive Reviews:\n\n1. \"I am extremely impressed with this laptop. The sleek design and lightweight make it perfect for on-the-go use. The battery life is exceptional, lasting me a full day of work without needing a charge. The performance is top-notch, handling multiple tasks effortlessly. The display is crystal clear and the keyboard is comfortable to type on. Overall, I highly recommend this laptop for anyone looking for a reliable and efficient device.\"\n\n2. \"I am in love with this laptop! The speed and performance are outstanding, allowing me to multitask without any lag. The graphics are stunning, making movie-watching a delight. The battery life is impressive, lasting me through long workdays. The keyboard is comfortable to type on for extended periods. The build quality is solid and the design is sleek. I couldn't be happier with my purchase.\"\n\n3. \"This laptop exceeded all my expectations. The speed and performance are exceptional, allowing me to run multiple programs simultaneously without any issues. The display is vibrant and sharp, making it perfect for watching movies or editing photos. The battery life is impressive, lasting me a full day of work without needing a charge. The keyboard is comfortable to type on and the build quality is sturdy. Overall, I am extremely satisfied with this laptop and would highly recommend it to others.\"\n\nNegative Reviews:\n\n1. \"I am extremely disappointed with this laptop. The performance is subpar, with frequent lagging and freezing. The battery life is abysmal, barely lasting a few hours before needing a charge. The display is lackluster, with poor color accuracy and brightness. The keyboard is uncomfortable to type on for extended periods. The build quality feels cheap and flimsy. Overall, I would not recommend this laptop to anyone looking for a reliable and efficient device.\"\n\n2. \"I regret purchasing this laptop. The speed and performance are disappointing, with frequent crashes and slow loading times. The graphics are mediocre, making movie-watching a less enjoyable experience. The battery life is below average, requiring frequent charging throughout the day. The keyboard is stiff and uncomfortable to type on. The build quality is questionable, with a flimsy feel to the overall design. I would not recommend this laptop to anyone looking for a reliable and efficient device.\"\n\n3. \"This laptop has been nothing but a headache. The performance is lackluster, with constant lagging and freezing. The battery life is terrible, barely lasting a few hours before needing a charge. The display is dull and lacks vibrancy. The keyboard is uncomfortable to type on for extended periods. The build quality is poor, with a cheap feel to the overall design. I would not recommend this laptop to anyone looking for a reliable and efficient device.\""
          },
          "metadata": {}
        }
      ]
    }
  ]
}