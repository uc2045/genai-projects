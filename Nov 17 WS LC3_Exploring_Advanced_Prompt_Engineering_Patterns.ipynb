{
  "cells": [
    {
      "cell_type": "markdown",
      "metadata": {
        "id": "view-in-github",
        "colab_type": "text"
      },
      "source": [
        "<a href=\"https://colab.research.google.com/github/uc2045/genai-projects/blob/master/Nov%2017%20WS%20LC3_Exploring_Advanced_Prompt_Engineering_Patterns.ipynb\" target=\"_parent\"><img src=\"https://colab.research.google.com/assets/colab-badge.svg\" alt=\"Open In Colab\"/></a>"
      ]
    },
    {
      "cell_type": "markdown",
      "metadata": {
        "id": "XTzBUFWQ-OWj"
      },
      "source": [
        "# Exploring Advanced Prompt Engineering Patterns\n",
        "\n",
        "In this notebook you will use ChatGPT and LangChain to learn about:\n",
        "\n",
        "- Regular Prompting\n",
        "- Chain of Thought Prompting\n",
        "- Least to Most Prompting\n",
        "\n",
        "___Created By: Dipanjan (DJ)___"
      ]
    },
    {
      "cell_type": "markdown",
      "metadata": {
        "id": "L1KvMtf54l0d"
      },
      "source": [
        "## Install OpenAI and LangChain dependencies\n"
      ]
    },
    {
      "cell_type": "code",
      "execution_count": null,
      "metadata": {
        "id": "eEzecGfICCw1",
        "colab": {
          "base_uri": "https://localhost:8080/"
        },
        "outputId": "852f3b10-0cf3-4cda-8010-a2b94b8031a0"
      },
      "outputs": [
        {
          "output_type": "stream",
          "name": "stdout",
          "text": [
            "Requirement already satisfied: langchain in /usr/local/lib/python3.10/dist-packages (0.3.7)\n",
            "Requirement already satisfied: PyYAML>=5.3 in /usr/local/lib/python3.10/dist-packages (from langchain) (6.0.2)\n",
            "Requirement already satisfied: SQLAlchemy<3,>=1.4 in /usr/local/lib/python3.10/dist-packages (from langchain) (2.0.36)\n",
            "Requirement already satisfied: aiohttp<4.0.0,>=3.8.3 in /usr/local/lib/python3.10/dist-packages (from langchain) (3.10.10)\n",
            "Requirement already satisfied: async-timeout<5.0.0,>=4.0.0 in /usr/local/lib/python3.10/dist-packages (from langchain) (4.0.3)\n",
            "Requirement already satisfied: langchain-core<0.4.0,>=0.3.15 in /usr/local/lib/python3.10/dist-packages (from langchain) (0.3.17)\n",
            "Requirement already satisfied: langchain-text-splitters<0.4.0,>=0.3.0 in /usr/local/lib/python3.10/dist-packages (from langchain) (0.3.2)\n",
            "Requirement already satisfied: langsmith<0.2.0,>=0.1.17 in /usr/local/lib/python3.10/dist-packages (from langchain) (0.1.142)\n",
            "Requirement already satisfied: numpy<2,>=1 in /usr/local/lib/python3.10/dist-packages (from langchain) (1.26.4)\n",
            "Requirement already satisfied: pydantic<3.0.0,>=2.7.4 in /usr/local/lib/python3.10/dist-packages (from langchain) (2.9.2)\n",
            "Requirement already satisfied: requests<3,>=2 in /usr/local/lib/python3.10/dist-packages (from langchain) (2.32.3)\n",
            "Requirement already satisfied: tenacity!=8.4.0,<10,>=8.1.0 in /usr/local/lib/python3.10/dist-packages (from langchain) (9.0.0)\n",
            "Requirement already satisfied: aiohappyeyeballs>=2.3.0 in /usr/local/lib/python3.10/dist-packages (from aiohttp<4.0.0,>=3.8.3->langchain) (2.4.3)\n",
            "Requirement already satisfied: aiosignal>=1.1.2 in /usr/local/lib/python3.10/dist-packages (from aiohttp<4.0.0,>=3.8.3->langchain) (1.3.1)\n",
            "Requirement already satisfied: attrs>=17.3.0 in /usr/local/lib/python3.10/dist-packages (from aiohttp<4.0.0,>=3.8.3->langchain) (24.2.0)\n",
            "Requirement already satisfied: frozenlist>=1.1.1 in /usr/local/lib/python3.10/dist-packages (from aiohttp<4.0.0,>=3.8.3->langchain) (1.5.0)\n",
            "Requirement already satisfied: multidict<7.0,>=4.5 in /usr/local/lib/python3.10/dist-packages (from aiohttp<4.0.0,>=3.8.3->langchain) (6.1.0)\n",
            "Requirement already satisfied: yarl<2.0,>=1.12.0 in /usr/local/lib/python3.10/dist-packages (from aiohttp<4.0.0,>=3.8.3->langchain) (1.17.1)\n",
            "Requirement already satisfied: jsonpatch<2.0,>=1.33 in /usr/local/lib/python3.10/dist-packages (from langchain-core<0.4.0,>=0.3.15->langchain) (1.33)\n",
            "Requirement already satisfied: packaging<25,>=23.2 in /usr/local/lib/python3.10/dist-packages (from langchain-core<0.4.0,>=0.3.15->langchain) (24.2)\n",
            "Requirement already satisfied: typing-extensions>=4.7 in /usr/local/lib/python3.10/dist-packages (from langchain-core<0.4.0,>=0.3.15->langchain) (4.12.2)\n",
            "Requirement already satisfied: httpx<1,>=0.23.0 in /usr/local/lib/python3.10/dist-packages (from langsmith<0.2.0,>=0.1.17->langchain) (0.27.2)\n",
            "Requirement already satisfied: orjson<4.0.0,>=3.9.14 in /usr/local/lib/python3.10/dist-packages (from langsmith<0.2.0,>=0.1.17->langchain) (3.10.11)\n",
            "Requirement already satisfied: requests-toolbelt<2.0.0,>=1.0.0 in /usr/local/lib/python3.10/dist-packages (from langsmith<0.2.0,>=0.1.17->langchain) (1.0.0)\n",
            "Requirement already satisfied: annotated-types>=0.6.0 in /usr/local/lib/python3.10/dist-packages (from pydantic<3.0.0,>=2.7.4->langchain) (0.7.0)\n",
            "Requirement already satisfied: pydantic-core==2.23.4 in /usr/local/lib/python3.10/dist-packages (from pydantic<3.0.0,>=2.7.4->langchain) (2.23.4)\n",
            "Requirement already satisfied: charset-normalizer<4,>=2 in /usr/local/lib/python3.10/dist-packages (from requests<3,>=2->langchain) (3.4.0)\n",
            "Requirement already satisfied: idna<4,>=2.5 in /usr/local/lib/python3.10/dist-packages (from requests<3,>=2->langchain) (3.10)\n",
            "Requirement already satisfied: urllib3<3,>=1.21.1 in /usr/local/lib/python3.10/dist-packages (from requests<3,>=2->langchain) (2.2.3)\n",
            "Requirement already satisfied: certifi>=2017.4.17 in /usr/local/lib/python3.10/dist-packages (from requests<3,>=2->langchain) (2024.8.30)\n",
            "Requirement already satisfied: greenlet!=0.4.17 in /usr/local/lib/python3.10/dist-packages (from SQLAlchemy<3,>=1.4->langchain) (3.1.1)\n",
            "Requirement already satisfied: anyio in /usr/local/lib/python3.10/dist-packages (from httpx<1,>=0.23.0->langsmith<0.2.0,>=0.1.17->langchain) (3.7.1)\n",
            "Requirement already satisfied: httpcore==1.* in /usr/local/lib/python3.10/dist-packages (from httpx<1,>=0.23.0->langsmith<0.2.0,>=0.1.17->langchain) (1.0.6)\n",
            "Requirement already satisfied: sniffio in /usr/local/lib/python3.10/dist-packages (from httpx<1,>=0.23.0->langsmith<0.2.0,>=0.1.17->langchain) (1.3.1)\n",
            "Requirement already satisfied: h11<0.15,>=0.13 in /usr/local/lib/python3.10/dist-packages (from httpcore==1.*->httpx<1,>=0.23.0->langsmith<0.2.0,>=0.1.17->langchain) (0.14.0)\n",
            "Requirement already satisfied: jsonpointer>=1.9 in /usr/local/lib/python3.10/dist-packages (from jsonpatch<2.0,>=1.33->langchain-core<0.4.0,>=0.3.15->langchain) (3.0.0)\n",
            "Requirement already satisfied: propcache>=0.2.0 in /usr/local/lib/python3.10/dist-packages (from yarl<2.0,>=1.12.0->aiohttp<4.0.0,>=3.8.3->langchain) (0.2.0)\n",
            "Requirement already satisfied: exceptiongroup in /usr/local/lib/python3.10/dist-packages (from anyio->httpx<1,>=0.23.0->langsmith<0.2.0,>=0.1.17->langchain) (1.2.2)\n",
            "Collecting langchain-openai\n",
            "  Downloading langchain_openai-0.2.8-py3-none-any.whl.metadata (2.6 kB)\n",
            "Requirement already satisfied: langchain-core<0.4.0,>=0.3.17 in /usr/local/lib/python3.10/dist-packages (from langchain-openai) (0.3.17)\n",
            "Requirement already satisfied: openai<2.0.0,>=1.54.0 in /usr/local/lib/python3.10/dist-packages (from langchain-openai) (1.54.4)\n",
            "Collecting tiktoken<1,>=0.7 (from langchain-openai)\n",
            "  Downloading tiktoken-0.8.0-cp310-cp310-manylinux_2_17_x86_64.manylinux2014_x86_64.whl.metadata (6.6 kB)\n",
            "Requirement already satisfied: PyYAML>=5.3 in /usr/local/lib/python3.10/dist-packages (from langchain-core<0.4.0,>=0.3.17->langchain-openai) (6.0.2)\n",
            "Requirement already satisfied: jsonpatch<2.0,>=1.33 in /usr/local/lib/python3.10/dist-packages (from langchain-core<0.4.0,>=0.3.17->langchain-openai) (1.33)\n",
            "Requirement already satisfied: langsmith<0.2.0,>=0.1.125 in /usr/local/lib/python3.10/dist-packages (from langchain-core<0.4.0,>=0.3.17->langchain-openai) (0.1.142)\n",
            "Requirement already satisfied: packaging<25,>=23.2 in /usr/local/lib/python3.10/dist-packages (from langchain-core<0.4.0,>=0.3.17->langchain-openai) (24.2)\n",
            "Requirement already satisfied: pydantic<3.0.0,>=2.5.2 in /usr/local/lib/python3.10/dist-packages (from langchain-core<0.4.0,>=0.3.17->langchain-openai) (2.9.2)\n",
            "Requirement already satisfied: tenacity!=8.4.0,<10.0.0,>=8.1.0 in /usr/local/lib/python3.10/dist-packages (from langchain-core<0.4.0,>=0.3.17->langchain-openai) (9.0.0)\n",
            "Requirement already satisfied: typing-extensions>=4.7 in /usr/local/lib/python3.10/dist-packages (from langchain-core<0.4.0,>=0.3.17->langchain-openai) (4.12.2)\n",
            "Requirement already satisfied: anyio<5,>=3.5.0 in /usr/local/lib/python3.10/dist-packages (from openai<2.0.0,>=1.54.0->langchain-openai) (3.7.1)\n",
            "Requirement already satisfied: distro<2,>=1.7.0 in /usr/local/lib/python3.10/dist-packages (from openai<2.0.0,>=1.54.0->langchain-openai) (1.9.0)\n",
            "Requirement already satisfied: httpx<1,>=0.23.0 in /usr/local/lib/python3.10/dist-packages (from openai<2.0.0,>=1.54.0->langchain-openai) (0.27.2)\n",
            "Requirement already satisfied: jiter<1,>=0.4.0 in /usr/local/lib/python3.10/dist-packages (from openai<2.0.0,>=1.54.0->langchain-openai) (0.7.1)\n",
            "Requirement already satisfied: sniffio in /usr/local/lib/python3.10/dist-packages (from openai<2.0.0,>=1.54.0->langchain-openai) (1.3.1)\n",
            "Requirement already satisfied: tqdm>4 in /usr/local/lib/python3.10/dist-packages (from openai<2.0.0,>=1.54.0->langchain-openai) (4.66.6)\n",
            "Requirement already satisfied: regex>=2022.1.18 in /usr/local/lib/python3.10/dist-packages (from tiktoken<1,>=0.7->langchain-openai) (2024.9.11)\n",
            "Requirement already satisfied: requests>=2.26.0 in /usr/local/lib/python3.10/dist-packages (from tiktoken<1,>=0.7->langchain-openai) (2.32.3)\n",
            "Requirement already satisfied: idna>=2.8 in /usr/local/lib/python3.10/dist-packages (from anyio<5,>=3.5.0->openai<2.0.0,>=1.54.0->langchain-openai) (3.10)\n",
            "Requirement already satisfied: exceptiongroup in /usr/local/lib/python3.10/dist-packages (from anyio<5,>=3.5.0->openai<2.0.0,>=1.54.0->langchain-openai) (1.2.2)\n",
            "Requirement already satisfied: certifi in /usr/local/lib/python3.10/dist-packages (from httpx<1,>=0.23.0->openai<2.0.0,>=1.54.0->langchain-openai) (2024.8.30)\n",
            "Requirement already satisfied: httpcore==1.* in /usr/local/lib/python3.10/dist-packages (from httpx<1,>=0.23.0->openai<2.0.0,>=1.54.0->langchain-openai) (1.0.6)\n",
            "Requirement already satisfied: h11<0.15,>=0.13 in /usr/local/lib/python3.10/dist-packages (from httpcore==1.*->httpx<1,>=0.23.0->openai<2.0.0,>=1.54.0->langchain-openai) (0.14.0)\n",
            "Requirement already satisfied: jsonpointer>=1.9 in /usr/local/lib/python3.10/dist-packages (from jsonpatch<2.0,>=1.33->langchain-core<0.4.0,>=0.3.17->langchain-openai) (3.0.0)\n",
            "Requirement already satisfied: orjson<4.0.0,>=3.9.14 in /usr/local/lib/python3.10/dist-packages (from langsmith<0.2.0,>=0.1.125->langchain-core<0.4.0,>=0.3.17->langchain-openai) (3.10.11)\n",
            "Requirement already satisfied: requests-toolbelt<2.0.0,>=1.0.0 in /usr/local/lib/python3.10/dist-packages (from langsmith<0.2.0,>=0.1.125->langchain-core<0.4.0,>=0.3.17->langchain-openai) (1.0.0)\n",
            "Requirement already satisfied: annotated-types>=0.6.0 in /usr/local/lib/python3.10/dist-packages (from pydantic<3.0.0,>=2.5.2->langchain-core<0.4.0,>=0.3.17->langchain-openai) (0.7.0)\n",
            "Requirement already satisfied: pydantic-core==2.23.4 in /usr/local/lib/python3.10/dist-packages (from pydantic<3.0.0,>=2.5.2->langchain-core<0.4.0,>=0.3.17->langchain-openai) (2.23.4)\n",
            "Requirement already satisfied: charset-normalizer<4,>=2 in /usr/local/lib/python3.10/dist-packages (from requests>=2.26.0->tiktoken<1,>=0.7->langchain-openai) (3.4.0)\n",
            "Requirement already satisfied: urllib3<3,>=1.21.1 in /usr/local/lib/python3.10/dist-packages (from requests>=2.26.0->tiktoken<1,>=0.7->langchain-openai) (2.2.3)\n",
            "Downloading langchain_openai-0.2.8-py3-none-any.whl (50 kB)\n",
            "\u001b[2K   \u001b[90m━━━━━━━━━━━━━━━━━━━━━━━━━━━━━━━━━━━━━━━━\u001b[0m \u001b[32m50.4/50.4 kB\u001b[0m \u001b[31m2.4 MB/s\u001b[0m eta \u001b[36m0:00:00\u001b[0m\n",
            "\u001b[?25hDownloading tiktoken-0.8.0-cp310-cp310-manylinux_2_17_x86_64.manylinux2014_x86_64.whl (1.2 MB)\n",
            "\u001b[2K   \u001b[90m━━━━━━━━━━━━━━━━━━━━━━━━━━━━━━━━━━━━━━━━\u001b[0m \u001b[32m1.2/1.2 MB\u001b[0m \u001b[31m8.1 MB/s\u001b[0m eta \u001b[36m0:00:00\u001b[0m\n",
            "\u001b[?25hInstalling collected packages: tiktoken, langchain-openai\n",
            "Successfully installed langchain-openai-0.2.8 tiktoken-0.8.0\n"
          ]
        }
      ],
      "source": [
        "!pip install langchain\n",
        "!pip install langchain-openai"
      ]
    },
    {
      "cell_type": "markdown",
      "metadata": {
        "id": "CiwGjVWK4q6F"
      },
      "source": [
        "## Load OpenAI API Credentials\n",
        "\n",
        "Here we load it from get password function"
      ]
    },
    {
      "cell_type": "markdown",
      "metadata": {
        "id": "PtBa7rlWJWH3"
      },
      "source": [
        "## Enter API Tokens"
      ]
    },
    {
      "cell_type": "code",
      "execution_count": null,
      "metadata": {
        "id": "9ogxBkS6ZnnC",
        "colab": {
          "base_uri": "https://localhost:8080/"
        },
        "outputId": "d322f4bc-3dab-4d91-caf2-eb6c13275a86"
      },
      "outputs": [
        {
          "name": "stdout",
          "output_type": "stream",
          "text": [
            "Enter Open AI API Key: ··········\n"
          ]
        }
      ],
      "source": [
        "from getpass import getpass\n",
        "\n",
        "OPENAI_KEY = getpass('Enter Open AI API Key: ')"
      ]
    },
    {
      "cell_type": "code",
      "execution_count": null,
      "metadata": {
        "id": "kDe44J0N0NcC"
      },
      "outputs": [],
      "source": [
        "import os\n",
        "\n",
        "os.environ['OPENAI_API_KEY'] = OPENAI_KEY"
      ]
    },
    {
      "cell_type": "markdown",
      "metadata": {
        "id": "VDWhgxCy5bA6"
      },
      "source": [
        "## Load Necessary Dependencies and ChatGPT LLM"
      ]
    },
    {
      "cell_type": "code",
      "execution_count": null,
      "metadata": {
        "id": "mY2bapqfuWq1"
      },
      "outputs": [],
      "source": [
        "from langchain_core.prompts import ChatPromptTemplate\n",
        "from langchain_openai import ChatOpenAI\n",
        "\n",
        "chatgpt = ChatOpenAI(model_name='gpt-3.5-turbo', temperature=0.3)"
      ]
    },
    {
      "cell_type": "markdown",
      "metadata": {
        "id": "qJrIiENwxMx9"
      },
      "source": [
        "## 1-shot Regular Prompting"
      ]
    },
    {
      "cell_type": "code",
      "execution_count": null,
      "metadata": {
        "id": "8Evdag0KuOXo",
        "colab": {
          "base_uri": "https://localhost:8080/"
        },
        "outputId": "6cced4fa-644c-4484-bedc-7e00ea4940be"
      },
      "outputs": [
        {
          "output_type": "stream",
          "name": "stdout",
          "text": [
            "Response: 31-yard.\n"
          ]
        }
      ],
      "source": [
        "PROMPT = \"\"\"You are a strong reasoning agent.\n",
        "            Respond to user query with concise with helpful information.\n",
        "\n",
        "            Here is an example:\n",
        "\n",
        "            Question: The Packers had a 17-10 halftime lead, in large part to Lowry's defensive touchdown.\n",
        "            Jameis Winston caught fire in the second half and gave the Buccaneers a 20-17 lead.\n",
        "            Despite Brett Hundley only having 54 passing yards up to this point\n",
        "            (37 on the Packers opening drive), he led the Packers down the field to tie the game at 20-20\n",
        "            with two minutes to play. The Packers started overtime with the ball, and Aaron Jones capped off\n",
        "            the comeback win with a 20-yard touchdown run.\n",
        "            Hundley would finish the game with 84 passing yards, and the Packers improved to 6-6.\n",
        "            How many yards was the winning touchdown?\n",
        "\n",
        "            Response: 20-yard.\n",
        "\n",
        "            Question: {query}\n",
        "        \"\"\"\n",
        "\n",
        "query = \"\"\"Coming off their win over the Broncos, the Redskins flew to Cowboys Stadium\n",
        "           for their Week 11 NFC East rivalry match against the Dallas Cowboys.\n",
        "           After a scoreless first quarter, Washington would strike in the second quarter\n",
        "           as kicker Shaun Suisham nailed a 35-yard field goal.\n",
        "           The Redskins would try to add onto their lead in the third quarter\n",
        "           with Suisham booting a 31-yard field goal which was blocked.\n",
        "           However, in the fourth quarter, the Cowboys rallied as quarterback Tony Romo\n",
        "           completing a 10-yard touchdown pass to wide receiver Patrick Crayton.\n",
        "           How many yards was the shortest valid field goal?\n",
        "        \"\"\"\n",
        "\n",
        "prompt = ChatPromptTemplate.from_template(PROMPT)\n",
        "\n",
        "chain = (prompt\n",
        "          |\n",
        "         chatgpt\n",
        ")\n",
        "\n",
        "response = chain.invoke({\"query\": query})\n",
        "print(response.content)"
      ]
    },
    {
      "cell_type": "markdown",
      "source": [
        "## Chain-of-Thought Prompting"
      ],
      "metadata": {
        "id": "vdZd5iCNvgYz"
      }
    },
    {
      "cell_type": "code",
      "execution_count": null,
      "metadata": {
        "id": "Tp84pgKXvKuY",
        "colab": {
          "base_uri": "https://localhost:8080/"
        },
        "outputId": "40855909-8575-4a9a-9eca-bc51234081c8"
      },
      "outputs": [
        {
          "output_type": "stream",
          "name": "stdout",
          "text": [
            "Response:\n",
            "The field goals mentioned in the game were a 35-yard field goal and a 31-yard field goal (which was blocked).\n",
            "The valid field goal with the shortest yardage was the 31-yard field goal.\n",
            "Therefore, the answer is: 31 yards\n"
          ]
        }
      ],
      "source": [
        "PROMPT = \"\"\"You are a strong reasoning agent.\n",
        "            Respond to user query with helpful information.\n",
        "            Break down the problem step by step as shown in the example,\n",
        "            analyze each step carefully, and then come to the answer.\n",
        "            When answering questions, show your step by step reasoning and then your answer.\n",
        "            Do not jump to the answer directly.\n",
        "\n",
        "            Here is an example -\n",
        "\n",
        "            Question: In week 8, the Lions visited the Houston Texans.\n",
        "            After a scoreless first quarter, the Texans took an early lead that they never\n",
        "            relinquished with a pair of touchdowns. First, Brock Osweiler connected with C. J. Fiedorowicz\n",
        "            on a six-yard touchdown pass, then Lamar Miller scored on a one-yard run.\n",
        "            The Lions' only score of the first half was a 47-yard field goal from Matt Prater,\n",
        "            making the halftime score 14-3. The only score of the third quarter was a 33-yard field goal\n",
        "            from Houston's Nick Novak.  Detroit responded with a one-yard touchdown catch by Theo Riddick\n",
        "            in the fourth quarter, but the Texans went back up by 10 points after a 36-yard Novak field goal.\n",
        "            The Lions scored the final points of the game with a 34-yard field goal.\n",
        "            Despite the attempted late game comeback, Detroit came up short, losing 20-13 and\n",
        "            snapping their three-game winning streak.\n",
        "            How many yards was the second longest field goal?\n",
        "\n",
        "            Response:\n",
        "            The field goals are 47-yard,  33-yard,  36-yard and  34-yard.\n",
        "            Each field goal was a valid goal and there were no issues.\n",
        "            The second maximum value out of  47, 33, 36 and 34 is 36.\n",
        "            The answer is: 36 yards\n",
        "\n",
        "            Question: {query}\n",
        "        \"\"\"\n",
        "\n",
        "query = \"\"\"Coming off their win over the Broncos, the Redskins flew to Cowboys Stadium\n",
        "           for their Week 11 NFC East rivalry match against the Dallas Cowboys.\n",
        "           After a scoreless first quarter, Washington would strike in the second quarter\n",
        "           as kicker Shaun Suisham nailed a 35-yard field goal.\n",
        "           The Redskins would try to add onto their lead in the third quarter\n",
        "           with Suisham booting a 31-yard field goal which was blocked.\n",
        "           However, in the fourth quarter, the Cowboys rallied as quarterback Tony Romo\n",
        "           completing a 10-yard touchdown pass to wide receiver Patrick Crayton.\n",
        "           How many yards was the shortest valid field goal?\n",
        "        \"\"\"\n",
        "\n",
        "prompt = ChatPromptTemplate.from_template(PROMPT)\n",
        "\n",
        "chain = (prompt\n",
        "          |\n",
        "         chatgpt\n",
        ")\n",
        "\n",
        "response = chain.invoke({\"query\": query})\n",
        "print(response.content)"
      ]
    },
    {
      "cell_type": "markdown",
      "source": [
        "## Least to Most Prompting"
      ],
      "metadata": {
        "id": "Hmmg7blAvcAt"
      }
    },
    {
      "cell_type": "code",
      "execution_count": null,
      "metadata": {
        "id": "QePjecVqviA3",
        "colab": {
          "base_uri": "https://localhost:8080/"
        },
        "outputId": "de9b223a-55b4-40bd-d914-681b99660e6f"
      },
      "outputs": [
        {
          "output_type": "stream",
          "name": "stdout",
          "text": [
            "Let's break down this problem -\n",
            "            1. What were the field goals attempted in the game?\n",
            "            2. How many yards was the shortest valid field goal?\n",
            "\n",
            "            The answer to subproblems is as follows -\n",
            "            1. The field goals attempted were 35-yard and 31-yard, with the 31-yard field goal being blocked.\n",
            "            2. The shortest valid field goal made in the game was 35 yards.\n",
            "\n",
            "            The final answer is: 35 yards.\n"
          ]
        }
      ],
      "source": [
        "PROMPT = \"\"\"You are a strong reasoning agent.\n",
        "            Respond to user query with concise with helpful information.\n",
        "            Follow the format as mentioned in the example,\n",
        "            break down the problem first into sub problems,\n",
        "            answer each sub problem, analyze it and then get to the final answer,\n",
        "            do not jump directly to the answer\n",
        "\n",
        "            Here is an example -\n",
        "\n",
        "            Question: Against Tim Tebow and the Broncos, the two teams would be in a 0-0 deadlock\n",
        "            in the first half, though the Broncos would nearly score in the second quarter\n",
        "            on a 28-yard field goal, which would then be blocked by Julius Peppers.\n",
        "            The Bears would then score 10 points on Marion Barber's 9-yard touchdown run,\n",
        "            and Robbie Gould's team record-breaking 57-yard field goal, but Tebow's touchdown pass\n",
        "            to Demaryius Thomas and Matt Prater's 59-yard field goal would tie the game.\n",
        "            Barber would commit two costly mistakes during the late portion of the game.\n",
        "            In the fourth quarter, Barber would run out of bounds with 1:55 left,\n",
        "            and Barber would also fumble in overtime.\n",
        "            The Broncos would then move downfield and kick a game-winning field goal.\n",
        "            How many yards was the games longest field goal?\n",
        "\n",
        "            Response:\n",
        "            Let's break down this problem -\n",
        "            1. What were the field goals when field goal was?\n",
        "            2. How many yards was the games longest field goal?\n",
        "\n",
        "            The answer to subproblems is as follows -\n",
        "            1. The field goals were 28-yard,  57-yard and  59-yard which are all valid goals\n",
        "            2. The maximum value out of  59-yard, 28-yard and 57-yard is 59\n",
        "\n",
        "            The final answer is: 59 yards.\n",
        "\n",
        "            Question: {query}\n",
        "        \"\"\"\n",
        "\n",
        "query = \"\"\"Coming off their win over the Broncos, the Redskins flew to Cowboys Stadium\n",
        "           for their Week 11 NFC East rivalry match against the Dallas Cowboys.\n",
        "           After a scoreless first quarter, Washington would strike in the second quarter\n",
        "           as kicker Shaun Suisham nailed a 35-yard field goal.\n",
        "           The Redskins would try to add onto their lead in the third quarter\n",
        "           with Suisham booting a 31-yard field goal which was blocked.\n",
        "           However, in the fourth quarter, the Cowboys rallied as quarterback Tony Romo\n",
        "           completing a 10-yard touchdown pass to wide receiver Patrick Crayton.\n",
        "           How many yards was the shortest valid field goal?\n",
        "        \"\"\"\n",
        "\n",
        "prompt = ChatPromptTemplate.from_template(PROMPT)\n",
        "\n",
        "chain = (prompt\n",
        "          |\n",
        "         chatgpt\n",
        ")\n",
        "\n",
        "response = chain.invoke({\"query\": query})\n",
        "print(response.content)"
      ]
    }
  ],
  "metadata": {
    "colab": {
      "provenance": [],
      "include_colab_link": true
    },
    "kernelspec": {
      "display_name": "Python 3",
      "name": "python3"
    },
    "language_info": {
      "name": "python"
    }
  },
  "nbformat": 4,
  "nbformat_minor": 0
}