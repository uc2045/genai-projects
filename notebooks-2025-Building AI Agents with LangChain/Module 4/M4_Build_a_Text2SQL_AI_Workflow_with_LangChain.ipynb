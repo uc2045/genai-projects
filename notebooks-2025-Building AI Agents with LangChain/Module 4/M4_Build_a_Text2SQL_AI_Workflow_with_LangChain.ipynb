{
  "nbformat": 4,
  "nbformat_minor": 0,
  "metadata": {
    "colab": {
      "provenance": []
    },
    "kernelspec": {
      "name": "python3",
      "display_name": "Python 3"
    },
    "language_info": {
      "name": "python"
    }
  },
  "cells": [
    {
      "cell_type": "markdown",
      "source": [
        "# Build a Text2SQL AI Workflow with LangChain\n",
        "\n"
      ],
      "metadata": {
        "id": "1kiH8lf1y4sD"
      }
    },
    {
      "cell_type": "markdown",
      "source": [
        "In this project, we will design a Text2SQL workflow using LangChain, enabling users to convert natural language queries into SQL commands seamlessly. The workflow will consist of the following components:\n",
        "\n",
        "Query Write Chain: A large language model (LLM) generates SQL queries based on the user's input question, adhering to constraints such as selecting relevant columns and limiting the number of results.\n",
        "\n",
        "Query Execute Chain: The SQL query is executed against a pre-defined database schema using a database engine, retrieving the necessary results.\n",
        "\n",
        "Answer Chain: The LLM formulates a user-friendly response, presenting the query results while escaping special characters for correct rendering in markdown.\n",
        "\n",
        "By leveraging LangChain’s capabilities, we can simplify the process of interacting with databases, allowing users to obtain meaningful insights without requiring SQL expertise.\n",
        "\n",
        "While this has agentic components like tool-calls we are defining a fixed deterministic flow where we have more control, however less flexibility.\n",
        "\n",
        "![](https://i.imgur.com/7WrLz9I.png)\n",
        "\n"
      ],
      "metadata": {
        "id": "NYBpZTjLnEXb"
      }
    },
    {
      "cell_type": "markdown",
      "source": [
        "## Install OpenAI, and LangChain dependencies"
      ],
      "metadata": {
        "id": "L1KvMtf54l0d"
      }
    },
    {
      "cell_type": "code",
      "source": [
        "!pip install langchain==0.3.14\n",
        "!pip install langchain-openai==0.3.0\n",
        "!pip install langchain-community==0.3.14"
      ],
      "metadata": {
        "id": "2evPp14fy258"
      },
      "execution_count": null,
      "outputs": []
    },
    {
      "cell_type": "code",
      "source": [
        "!apt-get install sqlite3 -y"
      ],
      "metadata": {
        "id": "AakmY6B_zYte"
      },
      "execution_count": null,
      "outputs": []
    },
    {
      "cell_type": "markdown",
      "source": [
        "## Enter Open AI API Key"
      ],
      "metadata": {
        "id": "H9c37cLnSrbg"
      }
    },
    {
      "cell_type": "code",
      "source": [
        "from getpass import getpass\n",
        "\n",
        "OPENAI_KEY = getpass('Enter Open AI API Key: ')"
      ],
      "metadata": {
        "id": "cv3JzCEx_PAd"
      },
      "execution_count": null,
      "outputs": []
    },
    {
      "cell_type": "markdown",
      "source": [
        "## Setup Environment Variables"
      ],
      "metadata": {
        "id": "1T0s0um5Svfa"
      }
    },
    {
      "cell_type": "code",
      "source": [
        "import os\n",
        "\n",
        "os.environ['OPENAI_API_KEY'] = OPENAI_KEY"
      ],
      "metadata": {
        "id": "x1YSuHNF_lbh"
      },
      "execution_count": null,
      "outputs": []
    },
    {
      "cell_type": "markdown",
      "source": [
        "## Get SQL DB Script"
      ],
      "metadata": {
        "id": "KCxfzpMp12v1"
      }
    },
    {
      "cell_type": "code",
      "source": [
        "# in case of issues download from https://drive.google.com/file/d/16mZm3C7xKpPqp_86e64uzduLpM5mPUdq/view?usp=sharing and upload\n",
        "!gdown 16mZm3C7xKpPqp_86e64uzduLpM5mPUdq"
      ],
      "metadata": {
        "id": "q2sKDYgEqOaP"
      },
      "execution_count": null,
      "outputs": []
    },
    {
      "cell_type": "markdown",
      "source": [
        "## Create Comic Store Database"
      ],
      "metadata": {
        "id": "AmkRn5lb2A-g"
      }
    },
    {
      "cell_type": "code",
      "source": [
        "!sqlite3 --version"
      ],
      "metadata": {
        "id": "8_hWe_1Lq5ve"
      },
      "execution_count": null,
      "outputs": []
    },
    {
      "cell_type": "code",
      "source": [
        "!sqlite3 ComicStore.db \".read ./comicdb_create_script.sql\""
      ],
      "metadata": {
        "id": "LMAxKqyOvVD0"
      },
      "execution_count": null,
      "outputs": []
    },
    {
      "cell_type": "code",
      "source": [
        "!sqlite3 ComicStore.db \"SELECT name FROM sqlite_master WHERE type='table';\""
      ],
      "metadata": {
        "id": "8JLlJq6DvghH"
      },
      "execution_count": null,
      "outputs": []
    },
    {
      "cell_type": "code",
      "source": [
        "%%bash\n",
        "sqlite3 ComicStore.db <<EOF\n",
        ".headers on\n",
        ".mode column\n",
        "SELECT * FROM Comic LIMIT 10;\n",
        "EOF"
      ],
      "metadata": {
        "id": "reeYrrrTvtNG"
      },
      "execution_count": null,
      "outputs": []
    },
    {
      "cell_type": "code",
      "source": [
        "from langchain_community.utilities import SQLDatabase\n",
        "\n",
        "db = SQLDatabase.from_uri(\"sqlite:///ComicStore.db\")\n",
        "db"
      ],
      "metadata": {
        "id": "wN0hfytfqOcx"
      },
      "execution_count": null,
      "outputs": []
    },
    {
      "cell_type": "code",
      "source": [
        "print(db.dialect)\n",
        "print(db.get_usable_table_names())"
      ],
      "metadata": {
        "id": "iQsxearCqOfT"
      },
      "execution_count": null,
      "outputs": []
    },
    {
      "cell_type": "markdown",
      "source": [
        "## Overview of the Comic Store Database\n",
        "\n",
        "In this project, we will utilize a **Comic Store Database** to demonstrate the capabilities of a Text2SQL workflow. The database schema includes the following entities and relationships:\n",
        "\n",
        "1. **Branch**: Stores details about comic store branches, including their location and contact information.\n",
        "\n",
        "2. **Publisher**: Contains information about publishers, such as their name, country, and the year they were established.\n",
        "\n",
        "3. **Comic**: Represents the comics, including their title, genre, price, release date, and associated publisher.\n",
        "\n",
        "4. **Customer**: Tracks customer details, including their contact information and location.\n",
        "\n",
        "5. **Employee**: Holds data about store employees, including their branch, title, and hire date.\n",
        "\n",
        "6. **Inventory**: Manages the stock of comics available at different branches.\n",
        "\n",
        "7. **Sale**: Records sales transactions, including the employee and customer involved, as well as the total amount and sale date.\n",
        "\n",
        "8. **SaleTransactions**: Tracks individual items within a sale, including the quantity and price of each comic sold.\n",
        "\n",
        "### Relationships:\n",
        "- A **Publisher** publishes multiple **Comics**.\n",
        "- A **Branch** stocks multiple **Comics** through the **Inventory** table.\n",
        "- A **Customer** makes **Sales**, which are processed by **Employees**.\n",
        "- Each **Sale** contains multiple items recorded in **SaleTransactions**.\n",
        "\n",
        "This database schema is well-suited for queries related to inventory management, sales analysis, customer interactions, and employee performance in the context of a comic store business.\n",
        "\n",
        "\n",
        "![](https://i.imgur.com/YzNCLpV.png)"
      ],
      "metadata": {
        "id": "3YZF_3Qr2Fvr"
      }
    },
    {
      "cell_type": "code",
      "source": [
        "db.run(\"SELECT * FROM Comic LIMIT 10;\", include_columns=True)"
      ],
      "metadata": {
        "id": "6DDHRqCjqOhp"
      },
      "execution_count": null,
      "outputs": []
    },
    {
      "cell_type": "code",
      "source": [
        "db.run(\"SELECT * FROM Employee LIMIT 10;\", include_columns=True)"
      ],
      "metadata": {
        "id": "HqdauDCFJ87w"
      },
      "execution_count": null,
      "outputs": []
    },
    {
      "cell_type": "code",
      "source": [
        "db.run(\"SELECT * FROM Sale LIMIT 10;\", include_columns=True)"
      ],
      "metadata": {
        "id": "XMZ1du4uKC_z"
      },
      "execution_count": null,
      "outputs": []
    },
    {
      "cell_type": "code",
      "source": [
        "db.run(\"SELECT * FROM SaleTransactions LIMIT 10;\", include_columns=True)"
      ],
      "metadata": {
        "id": "x6OcNx3WKH9R"
      },
      "execution_count": null,
      "outputs": []
    },
    {
      "cell_type": "code",
      "source": [
        "print(db.get_table_info(table_names=['Comic', 'Sale']))"
      ],
      "metadata": {
        "id": "mNSPx5MEI8Ph"
      },
      "execution_count": null,
      "outputs": []
    },
    {
      "cell_type": "markdown",
      "source": [
        "## Build Text2SQL Components for AI Workflow"
      ],
      "metadata": {
        "id": "2K573_W62q9N"
      }
    },
    {
      "cell_type": "code",
      "source": [
        "# This prompt is customized from here\n",
        "# https://github.com/langchain-ai/langchain/blob/master/libs/langchain/langchain/chains/sql_database/prompt.py\n",
        "# you might need to customize it based on the LLM you are using\n",
        "# the output format might vary so you may need to mention explicit instructions in the prompt\n",
        "\n",
        "from langchain_core.prompts.prompt import PromptTemplate\n",
        "\n",
        "PROMPT_SUFFIX = \"\"\"Only use the following tables:\n",
        "{table_info}\n",
        "\n",
        "Question: {input}\"\"\"\n",
        "\n",
        "_sqlite_prompt = \"\"\"You are a SQLite expert.\n",
        "Given an input question, first create a syntactically correct SQLite query to run,\n",
        "then look at the results of the query and return the answer to the input question.\n",
        "\n",
        "Unless the user specifies in the question a specific number of examples to obtain,\n",
        "query for at most {top_k} results using the LIMIT clause as per SQLite.\n",
        "\n",
        "You can order the results to return the most informative data in the database.\n",
        "Never query for all columns from a table.\n",
        "\n",
        "You must query only the columns that are needed to answer the question.\n",
        "Wrap each column name in double quotes (\") to denote them as delimited identifiers.\n",
        "\n",
        "Pay attention to use only the column names you can see in the tables below.\n",
        "Be careful to not query for columns that do not exist.\n",
        "Also, pay attention to which column is in which table.\n",
        "Pay attention to use date('now') function to get the current date, if the question involves \"today\".\n",
        "Pay attention to use table JOINS as necessary if you are adding relevant fields from different tables.\n",
        "\n",
        "Generate the output in the exact following format:\n",
        "\n",
        "SQLQuery: SQL Query to run\n",
        "SQLResult: Result of the SQLQuery\n",
        "Answer: Final answer here\n",
        "\n",
        "The SQLQuery field above should have the correct SQLite query as plain text without any formatting or code blocks.\n",
        "Do not include sql or similar markers.\n",
        "Do not try to explain the query, just provide the query as-is, like this: SELECT ...\n",
        "\"\"\"\n",
        "\n",
        "SQLITE_PROMPT = PromptTemplate(\n",
        "    input_variables=[\"input\", \"table_info\", \"top_k\"],\n",
        "    template=_sqlite_prompt + PROMPT_SUFFIX,\n",
        ")"
      ],
      "metadata": {
        "id": "2n0ylLzwLY5a"
      },
      "execution_count": 34,
      "outputs": []
    },
    {
      "cell_type": "code",
      "source": [
        "SQLITE_PROMPT"
      ],
      "metadata": {
        "colab": {
          "base_uri": "https://localhost:8080/"
        },
        "id": "3LTz2FeF7CMZ",
        "outputId": "1d79d643-7fa4-4a5c-9454-ab34ea581060"
      },
      "execution_count": 35,
      "outputs": [
        {
          "output_type": "execute_result",
          "data": {
            "text/plain": [
              "PromptTemplate(input_variables=['input', 'table_info', 'top_k'], input_types={}, partial_variables={}, template='You are a SQLite expert.\\nGiven an input question, first create a syntactically correct SQLite query to run,\\nthen look at the results of the query and return the answer to the input question.\\n\\nUnless the user specifies in the question a specific number of examples to obtain,\\nquery for at most {top_k} results using the LIMIT clause as per SQLite.\\n\\nYou can order the results to return the most informative data in the database.\\nNever query for all columns from a table.\\n\\nYou must query only the columns that are needed to answer the question.\\nWrap each column name in double quotes (\") to denote them as delimited identifiers.\\n\\nPay attention to use only the column names you can see in the tables below.\\nBe careful to not query for columns that do not exist.\\nAlso, pay attention to which column is in which table.\\nPay attention to use date(\\'now\\') function to get the current date, if the question involves \"today\".\\nPay attention to use table JOINS as necessary if you are adding relevant fields from different tables.\\n\\nGenerate the output in the exact following format:\\n\\nSQLQuery: SQL Query to run\\nSQLResult: Result of the SQLQuery\\nAnswer: Final answer here\\n\\nThe SQLQuery field above should have the correct SQLite query as plain text without any formatting or code blocks.\\nDo not include sql or similar markers.\\nDo not try to explain the query, just provide the query as-is, like this: SELECT ...\\nOnly use the following tables:\\n{table_info}\\n\\nQuestion: {input}')"
            ]
          },
          "metadata": {},
          "execution_count": 35
        }
      ]
    },
    {
      "cell_type": "code",
      "source": [
        "# Implementation details in langchain source code:\n",
        "# https://api.python.langchain.com/en/latest/_modules/langchain/chains/sql_database/query.html#create_sql_query_chain\n",
        "from langchain_openai import ChatOpenAI\n",
        "from langchain.chains import create_sql_query_chain\n",
        "\n",
        "chatgpt = ChatOpenAI(model=\"gpt-4o\", temperature=0)\n",
        "text2sql_chain = create_sql_query_chain(llm=chatgpt,\n",
        "                                        db=db,\n",
        "                                        prompt=SQLITE_PROMPT,\n",
        "                                        k=5)\n",
        "text2sql_chain"
      ],
      "metadata": {
        "colab": {
          "base_uri": "https://localhost:8080/"
        },
        "id": "yspwYUsVqOj1",
        "outputId": "3c0f68ac-c9b0-4381-c9e2-1362ccb4b801"
      },
      "execution_count": 36,
      "outputs": [
        {
          "output_type": "execute_result",
          "data": {
            "text/plain": [
              "RunnableAssign(mapper={\n",
              "  input: RunnableLambda(...),\n",
              "  table_info: RunnableLambda(...)\n",
              "})\n",
              "| RunnableLambda(lambda x: {k: v for k, v in x.items() if k not in ('question', 'table_names_to_use')})\n",
              "| PromptTemplate(input_variables=['input', 'table_info'], input_types={}, partial_variables={'top_k': '5'}, template='You are a SQLite expert.\\nGiven an input question, first create a syntactically correct SQLite query to run,\\nthen look at the results of the query and return the answer to the input question.\\n\\nUnless the user specifies in the question a specific number of examples to obtain,\\nquery for at most {top_k} results using the LIMIT clause as per SQLite.\\n\\nYou can order the results to return the most informative data in the database.\\nNever query for all columns from a table.\\n\\nYou must query only the columns that are needed to answer the question.\\nWrap each column name in double quotes (\") to denote them as delimited identifiers.\\n\\nPay attention to use only the column names you can see in the tables below.\\nBe careful to not query for columns that do not exist.\\nAlso, pay attention to which column is in which table.\\nPay attention to use date(\\'now\\') function to get the current date, if the question involves \"today\".\\nPay attention to use table JOINS as necessary if you are adding relevant fields from different tables.\\n\\nGenerate the output in the exact following format:\\n\\nSQLQuery: SQL Query to run\\nSQLResult: Result of the SQLQuery\\nAnswer: Final answer here\\n\\nThe SQLQuery field above should have the correct SQLite query as plain text without any formatting or code blocks.\\nDo not include sql or similar markers.\\nDo not try to explain the query, just provide the query as-is, like this: SELECT ...\\nOnly use the following tables:\\n{table_info}\\n\\nQuestion: {input}')\n",
              "| RunnableBinding(bound=ChatOpenAI(client=<openai.resources.chat.completions.Completions object at 0x796a75fb93d0>, async_client=<openai.resources.chat.completions.AsyncCompletions object at 0x796a75fad3d0>, root_client=<openai.OpenAI object at 0x796a75f8f210>, root_async_client=<openai.AsyncOpenAI object at 0x796a75fb2fd0>, model_name='gpt-4o', temperature=0.0, model_kwargs={}, openai_api_key=SecretStr('**********')), kwargs={'stop': ['\\nSQLResult:']}, config={}, config_factories=[])\n",
              "| StrOutputParser()\n",
              "| RunnableLambda(_strip)"
            ]
          },
          "metadata": {},
          "execution_count": 36
        }
      ]
    },
    {
      "cell_type": "code",
      "source": [
        "text2sql_chain.get_prompts()[0].pretty_print()"
      ],
      "metadata": {
        "colab": {
          "base_uri": "https://localhost:8080/"
        },
        "id": "e8PvGz_-RjZL",
        "outputId": "1ff62879-5d43-4727-e73f-b541bfa5a97b"
      },
      "execution_count": 37,
      "outputs": [
        {
          "output_type": "stream",
          "name": "stdout",
          "text": [
            "You are a SQLite expert.\n",
            "Given an input question, first create a syntactically correct SQLite query to run,\n",
            "then look at the results of the query and return the answer to the input question.\n",
            "\n",
            "Unless the user specifies in the question a specific number of examples to obtain,\n",
            "query for at most 5 results using the LIMIT clause as per SQLite.\n",
            "\n",
            "You can order the results to return the most informative data in the database.\n",
            "Never query for all columns from a table.\n",
            "\n",
            "You must query only the columns that are needed to answer the question.\n",
            "Wrap each column name in double quotes (\") to denote them as delimited identifiers.\n",
            "\n",
            "Pay attention to use only the column names you can see in the tables below.\n",
            "Be careful to not query for columns that do not exist.\n",
            "Also, pay attention to which column is in which table.\n",
            "Pay attention to use date('now') function to get the current date, if the question involves \"today\".\n",
            "Pay attention to use table JOINS as necessary if you are adding relevant fields from different tables.\n",
            "\n",
            "Generate the output in the exact following format:\n",
            "\n",
            "SQLQuery: SQL Query to run\n",
            "SQLResult: Result of the SQLQuery\n",
            "Answer: Final answer here\n",
            "\n",
            "The SQLQuery field above should have the correct SQLite query as plain text without any formatting or code blocks.\n",
            "Do not include sql or similar markers.\n",
            "Do not try to explain the query, just provide the query as-is, like this: SELECT ...\n",
            "Only use the following tables:\n",
            "\u001b[33;1m\u001b[1;3m{table_info}\u001b[0m\n",
            "\n",
            "Question: \u001b[33;1m\u001b[1;3m{input}\u001b[0m\n"
          ]
        }
      ]
    },
    {
      "cell_type": "code",
      "source": [
        "response = text2sql_chain.invoke({\"question\": \"Top 5 most popular comics\"})\n",
        "print(response)"
      ],
      "metadata": {
        "colab": {
          "base_uri": "https://localhost:8080/"
        },
        "id": "wQylENUJJoRX",
        "outputId": "b7820669-f984-4d6b-87a8-9b2ab1275a7b"
      },
      "execution_count": 38,
      "outputs": [
        {
          "output_type": "stream",
          "name": "stdout",
          "text": [
            "SELECT \"Comic\".\"Title\", SUM(\"SaleTransactions\".\"Quantity\") AS \"TotalSold\"\n",
            "FROM \"SaleTransactions\"\n",
            "JOIN \"Comic\" ON \"SaleTransactions\".\"ComicId\" = \"Comic\".\"ComicId\"\n",
            "GROUP BY \"Comic\".\"Title\"\n",
            "ORDER BY \"TotalSold\" DESC\n",
            "LIMIT 5\n"
          ]
        }
      ]
    },
    {
      "cell_type": "code",
      "source": [
        "db.run(response)"
      ],
      "metadata": {
        "colab": {
          "base_uri": "https://localhost:8080/",
          "height": 53
        },
        "id": "E8CcxGxgqOnL",
        "outputId": "0fe588d0-2d45-4da4-8f6c-388a6b1590ef"
      },
      "execution_count": 39,
      "outputs": [
        {
          "output_type": "execute_result",
          "data": {
            "text/plain": [
              "\"[('Wolverine: Old Man Logan', 3), ('V for Vendetta', 2), ('Usagi Yojimbo Volume 1', 2), ('Transformers: All Hail Megatron', 2), ('The Killing Joke', 2)]\""
            ],
            "application/vnd.google.colaboratory.intrinsic+json": {
              "type": "string"
            }
          },
          "metadata": {},
          "execution_count": 39
        }
      ]
    },
    {
      "cell_type": "markdown",
      "source": [
        "## Create SQL Query Write & Execute Workflow Chains"
      ],
      "metadata": {
        "id": "PB_RtjY429RU"
      }
    },
    {
      "cell_type": "code",
      "source": [
        "from langchain_community.tools import QuerySQLDatabaseTool\n",
        "\n",
        "execute_query_tool = QuerySQLDatabaseTool(db=db)\n",
        "execute_query_tool"
      ],
      "metadata": {
        "colab": {
          "base_uri": "https://localhost:8080/"
        },
        "id": "rU03PHjbqOpJ",
        "outputId": "c419f7a0-4c7c-4d20-cfb0-4af082bf0bda"
      },
      "execution_count": 40,
      "outputs": [
        {
          "output_type": "execute_result",
          "data": {
            "text/plain": [
              "QuerySQLDatabaseTool(db=<langchain_community.utilities.sql_database.SQLDatabase object at 0x796a77cfd250>)"
            ]
          },
          "metadata": {},
          "execution_count": 40
        }
      ]
    },
    {
      "cell_type": "code",
      "source": [
        "chatgpt = ChatOpenAI(model=\"gpt-4o\", temperature=0)\n",
        "query_write_chain = create_sql_query_chain(llm=chatgpt,\n",
        "                                           db=db,\n",
        "                                           prompt=SQLITE_PROMPT,\n",
        "                                           k=10)\n",
        "query_execute_chain = (query_write_chain\n",
        "                            |\n",
        "                       execute_query_tool)\n",
        "\n",
        "query_execute_chain.invoke({\"question\": \"Top 5 most popular comics\"})"
      ],
      "metadata": {
        "colab": {
          "base_uri": "https://localhost:8080/",
          "height": 53
        },
        "id": "vm-WPFxaqOrL",
        "outputId": "6e01fa60-a753-4b60-905c-798b43b7168e"
      },
      "execution_count": 41,
      "outputs": [
        {
          "output_type": "execute_result",
          "data": {
            "text/plain": [
              "\"[('Wolverine: Old Man Logan', 3), ('V for Vendetta', 2), ('Usagi Yojimbo Volume 1', 2), ('Transformers: All Hail Megatron', 2), ('The Killing Joke', 2)]\""
            ],
            "application/vnd.google.colaboratory.intrinsic+json": {
              "type": "string"
            }
          },
          "metadata": {},
          "execution_count": 41
        }
      ]
    },
    {
      "cell_type": "code",
      "source": [
        "query_execute_chain.invoke({\"question\": \"Top 5 customers with most comics purchased\"})"
      ],
      "metadata": {
        "colab": {
          "base_uri": "https://localhost:8080/",
          "height": 35
        },
        "id": "d2Brh5CKU11z",
        "outputId": "16ab4aaa-03d4-4603-ea73-9e7f5ae6415d"
      },
      "execution_count": 42,
      "outputs": [
        {
          "output_type": "execute_result",
          "data": {
            "text/plain": [
              "\"[('Tony', 'Stark', 8), ('Sarah', 'Connor', 7), ('Natasha', 'Romanoff', 6), ('Clark', 'Kent', 6), ('Diana', 'Prince', 6)]\""
            ],
            "application/vnd.google.colaboratory.intrinsic+json": {
              "type": "string"
            }
          },
          "metadata": {},
          "execution_count": 42
        }
      ]
    },
    {
      "cell_type": "code",
      "source": [
        "query_execute_chain.invoke({\"question\": \"Top 5 customers with most money spent\"})"
      ],
      "metadata": {
        "colab": {
          "base_uri": "https://localhost:8080/",
          "height": 53
        },
        "id": "DYtDCB-_U15-",
        "outputId": "fe150604-9b4a-42c6-9b54-78761e007e0b"
      },
      "execution_count": 43,
      "outputs": [
        {
          "output_type": "execute_result",
          "data": {
            "text/plain": [
              "\"[('Tony', 'Stark', 164.94), ('Bruce', 'Wayne', 139.94), ('Sarah', 'Connor', 124.96), ('Clark', 'Kent', 114.96), ('Natasha', 'Romanoff', 111.96000000000001)]\""
            ],
            "application/vnd.google.colaboratory.intrinsic+json": {
              "type": "string"
            }
          },
          "metadata": {},
          "execution_count": 43
        }
      ]
    },
    {
      "cell_type": "code",
      "source": [
        "query_execute_chain.invoke({\"question\": \"Top 3 salesman with highest revenue\"})"
      ],
      "metadata": {
        "colab": {
          "base_uri": "https://localhost:8080/",
          "height": 35
        },
        "id": "mvwpYh4kQd6o",
        "outputId": "8d1f0347-c16b-4ff5-df5f-b529eea2821c"
      },
      "execution_count": 44,
      "outputs": [
        {
          "output_type": "execute_result",
          "data": {
            "text/plain": [
              "\"[('John', 'Doe', 255.89), ('Alice', 'Brown', 234.94), ('Jane', 'Smith', 234.88)]\""
            ],
            "application/vnd.google.colaboratory.intrinsic+json": {
              "type": "string"
            }
          },
          "metadata": {},
          "execution_count": 44
        }
      ]
    },
    {
      "cell_type": "markdown",
      "source": [
        "## Create Text2SQL AI Workflow Chain"
      ],
      "metadata": {
        "id": "bYcwPY1A3GRp"
      }
    },
    {
      "cell_type": "code",
      "source": [
        "from operator import itemgetter\n",
        "from langchain_core.output_parsers import StrOutputParser\n",
        "from langchain_core.prompts import PromptTemplate\n",
        "from langchain_core.runnables import RunnablePassthrough\n",
        "\n",
        "answer_prompt = PromptTemplate.from_template(\n",
        "    \"\"\"Given the following user question, corresponding SQL query, and SQL result,\n",
        "       create a helpful answer the user question.\n",
        "\n",
        "       When generating the final answer in markdown from the results,\n",
        "       if there are special characters in the text, such as the dollar symbol,\n",
        "       ensure they are escaped properly for correct rendering e.g $25.5 should become \\$25.5\n",
        "\n",
        "       Question: {question}\n",
        "       SQL Query: {query}\n",
        "       SQL Result: {result}\n",
        "       Answer:\n",
        "    \"\"\"\n",
        ")\n",
        "\n",
        "text2sql_chain = (\n",
        "    RunnablePassthrough.assign(query=query_write_chain)\n",
        "        |\n",
        "    RunnablePassthrough.assign(result=query_execute_chain)\n",
        "        |\n",
        "    answer_prompt\n",
        "        |\n",
        "    chatgpt\n",
        "        |\n",
        "    StrOutputParser()\n",
        ")"
      ],
      "metadata": {
        "id": "JcD73AxaU189"
      },
      "execution_count": 45,
      "outputs": []
    },
    {
      "cell_type": "markdown",
      "source": [
        "## Test the Text2SQL AI Workflow"
      ],
      "metadata": {
        "id": "5D3jafEI3JwL"
      }
    },
    {
      "cell_type": "code",
      "source": [
        "from IPython.display import display, Markdown\n",
        "response = text2sql_chain.invoke({\"question\": \"Total number of customers\"})\n",
        "display(Markdown(response))"
      ],
      "metadata": {
        "colab": {
          "base_uri": "https://localhost:8080/",
          "height": 46
        },
        "id": "1AHvsK6RZWWv",
        "outputId": "1a64f740-1144-4ab6-b955-a9c9419fafde"
      },
      "execution_count": 46,
      "outputs": [
        {
          "output_type": "display_data",
          "data": {
            "text/plain": [
              "<IPython.core.display.Markdown object>"
            ],
            "text/markdown": "The total number of customers is **20**."
          },
          "metadata": {}
        }
      ]
    },
    {
      "cell_type": "code",
      "source": [
        "response = text2sql_chain.invoke({\"question\": \"What are the Top 10 most popular comics\"})\n",
        "display(Markdown(response))"
      ],
      "metadata": {
        "colab": {
          "base_uri": "https://localhost:8080/",
          "height": 265
        },
        "id": "HyK1CpvqU2CD",
        "outputId": "b3534402-f3f6-4458-adc8-96ba4429f099"
      },
      "execution_count": 47,
      "outputs": [
        {
          "output_type": "display_data",
          "data": {
            "text/plain": [
              "<IPython.core.display.Markdown object>"
            ],
            "text/markdown": "Here are the Top 10 most popular comics based on sales:\n\n1. **Wolverine: Old Man Logan** - 3 copies sold\n2. **V for Vendetta** - 2 copies sold\n3. **Usagi Yojimbo Volume 1** - 2 copies sold\n4. **Transformers: All Hail Megatron** - 2 copies sold\n5. **The Killing Joke** - 2 copies sold\n6. **The Boys Volume 1** - 2 copies sold\n7. **Superman: Red Son** - 2 copies sold\n8. **Punisher: Welcome Back, Frank** - 2 copies sold\n9. **Preacher Volume 1** - 2 copies sold\n10. **Ms. Marvel Volume 1** - 2 copies sold\n\nThese comics have proven to be the most popular based on the number of copies sold."
          },
          "metadata": {}
        }
      ]
    },
    {
      "cell_type": "code",
      "source": [
        "response = text2sql_chain.invoke({\"question\": \"Top 5 customers with most comics purchased\"})\n",
        "display(Markdown(response))"
      ],
      "metadata": {
        "colab": {
          "base_uri": "https://localhost:8080/",
          "height": 179
        },
        "id": "zxnLGmVZZlzJ",
        "outputId": "80f54a81-b7ff-4f3e-8f89-fc6d1dc13fd7"
      },
      "execution_count": 48,
      "outputs": [
        {
          "output_type": "display_data",
          "data": {
            "text/plain": [
              "<IPython.core.display.Markdown object>"
            ],
            "text/markdown": "Here are the top 5 customers who have purchased the most comics:\n\n1. **Tony Stark** - 8 comics\n2. **Sarah Connor** - 7 comics\n3. **Natasha Romanoff** - 6 comics\n4. **Clark Kent** - 6 comics\n5. **Diana Prince** - 6 comics\n\nThese customers have shown a great interest in comics, with Tony Stark leading the list with 8 purchases."
          },
          "metadata": {}
        }
      ]
    },
    {
      "cell_type": "code",
      "source": [
        "response = text2sql_chain.invoke({\"question\": \"Which are the top 5 customers with most money spent\"})\n",
        "display(Markdown(response))"
      ],
      "metadata": {
        "colab": {
          "base_uri": "https://localhost:8080/",
          "height": 179
        },
        "id": "0WEhTieKZl5R",
        "outputId": "cd1b4cfb-af95-472a-cb19-f6319e2db6e0"
      },
      "execution_count": 49,
      "outputs": [
        {
          "output_type": "display_data",
          "data": {
            "text/plain": [
              "<IPython.core.display.Markdown object>"
            ],
            "text/markdown": "Here are the top 5 customers who have spent the most money:\n\n1. **Tony Stark**: \\$164.94\n2. **Bruce Wayne**: \\$139.94\n3. **Sarah Connor**: \\$124.96\n4. **Clark Kent**: \\$114.96\n5. **Natasha Romanoff**: \\$111.96\n\nThese customers have made significant purchases, contributing to their high total spending."
          },
          "metadata": {}
        }
      ]
    },
    {
      "cell_type": "code",
      "source": [
        "response = text2sql_chain.invoke({\"question\": \"Which are the top 3 salesman with highest revenue\"})\n",
        "display(Markdown(response))"
      ],
      "metadata": {
        "colab": {
          "base_uri": "https://localhost:8080/",
          "height": 144
        },
        "id": "25SJ1cDKRWuf",
        "outputId": "704d9279-0381-432d-a32a-03951569702e"
      },
      "execution_count": 50,
      "outputs": [
        {
          "output_type": "display_data",
          "data": {
            "text/plain": [
              "<IPython.core.display.Markdown object>"
            ],
            "text/markdown": "The top 3 salespeople with the highest revenue are:\n\n1. **John Doe** with a total revenue of \\$255.89\n2. **Alice Brown** with a total revenue of \\$234.94\n3. **Jane Smith** with a total revenue of \\$234.88\n\nThese individuals have achieved the highest sales figures in the company."
          },
          "metadata": {}
        }
      ]
    }
  ]
}